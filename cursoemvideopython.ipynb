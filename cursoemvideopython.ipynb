{
  "cells": [
    {
      "cell_type": "markdown",
      "metadata": {
        "id": "view-in-github",
        "colab_type": "text"
      },
      "source": [
        "<a href=\"https://colab.research.google.com/github/jonatasapolinario/estudos_python/blob/main/cursoemvideopython.ipynb\" target=\"_parent\"><img src=\"https://colab.research.google.com/assets/colab-badge.svg\" alt=\"Open In Colab\"/></a>"
      ]
    },
    {
      "cell_type": "code",
      "execution_count": null,
      "metadata": {
        "id": "YkM1n5IvMrCi",
        "colab": {
          "base_uri": "https://localhost:8080/"
        },
        "outputId": "33fb5dd7-8354-46b6-8e8f-399eb23851d2"
      },
      "outputs": [
        {
          "output_type": "stream",
          "name": "stdout",
          "text": [
            "Olá mundo\n",
            "11\n",
            "74\n",
            "Olá mundo 5\n"
          ]
        }
      ],
      "source": [
        "print ('Olá mundo')\n",
        "print (7+4)\n",
        "print ('7'+'4')\n",
        "#print ('Olá mundo'+5) essa sintaxe esta errada. Para concatenar texto e numeros não pode usar o sinal de +, tem que usar a virgula(,)\n",
        "print ('Olá mundo', 5)"
      ]
    },
    {
      "cell_type": "code",
      "execution_count": null,
      "metadata": {
        "cellView": "code",
        "colab": {
          "background_save": true
        },
        "id": "_cmE1IRjl08k"
      },
      "outputs": [],
      "source": [
        "#variáveis sempre escrever com letras minusculas;\n",
        "#toda variável é um OBJETO;\n",
        "#para adicionar um valor na variável usamos do sinal de igual(=)\n",
        "#para adicionar valores as variáveis com a entrada via teclado, usar o comando input. Sintaxe: variavel = tipo variavel (input('texto'))\n",
        "#EXEMPLO:\n",
        "print('Qual seu nome, idade e peso?') \n",
        "nome = str (input('Digite seu nome: '))\n",
        "idade = int (input('Digite sua idade: '))\n",
        "peso = float  (input('Digite seu peso: '))\n",
        "print ('Meu nome é ' + nome)\n",
        "print ('Tenho ', idade, 'anos')\n",
        "print ('Peso ', peso)"
      ]
    },
    {
      "cell_type": "code",
      "execution_count": null,
      "metadata": {
        "id": "LL5nEq1MXLrx"
      },
      "outputs": [],
      "source": [
        "\n",
        "#ex002\n",
        "#Imprimir na tela uma mensagem de saudação após ler o nome da pessoa. Existem várias formas de fazer isso.\n",
        "\n",
        "#01\n",
        "#print('Qual seu nome?')\n",
        "#nome = str (input('Informe seu nome: '))\n",
        "#print('Prazer em te conhecher',nome,'. Seja bem vindo!')\n",
        "#print()\n",
        "\n",
        "#02\n",
        "print('Qual seu nome?')\n",
        "nome = str (input('Informe seu nome: '))\n",
        "print('Prazer em te conhecer {}!'.format(nome)) #Usando a função \"format\" para adicionar valores aos espaços reservados com {}.\n",
        "print()"
      ]
    },
    {
      "cell_type": "code",
      "execution_count": null,
      "metadata": {
        "id": "3Cb7YataXfiM"
      },
      "outputs": [],
      "source": [
        "#ex003\n",
        "#Crie um programa que leia dois números e mostre a soma entre eles.\n",
        "\n",
        "#Opções da função print\n",
        "\n",
        "#01 - forma mais simples\n",
        "print('01 - forma mais simples da função print')\n",
        "n1 = int (input('Digite um valor: '))\n",
        "n2 = int (input('Digite outro: '))\n",
        "s = n1 + n2\n",
        "print('A soma vale', s)\n",
        "print()\n",
        "\n",
        "#02 - usando a função .format\n",
        "print('02 - usando a função .format junto da função print')\n",
        "n1 = int (input('Digite um valor: '))\n",
        "n2 = int (input('Digite outro: '))\n",
        "s = n1 + n2\n",
        "print('A soma vale {}'.format(s))\n",
        "print()\n",
        "\n",
        "#03 - concatenando as variáveris com a função .format\n",
        "print('03 - concatenando as variáveris com a função .format')\n",
        "n1 = int (input('Digite um valor: '))\n",
        "n2 = int (input('Digite outro: '))\n",
        "s = n1 + n2\n",
        "print('A soma entre os valores {} e {} vale {}'.format(n1, n2, s))\n",
        "print()"
      ]
    },
    {
      "cell_type": "code",
      "execution_count": null,
      "metadata": {
        "id": "AJqZYucIX6Rz"
      },
      "outputs": [],
      "source": [
        "#Aula 06a - Tipos Primitivos\n",
        "# int = Armazena números inteiros. Exemplo: 7 -4 0 9875\n",
        "# float = Armazena números reais, ou, números separados por ponto(.). Exemplo: 4.5 0.076 -15.223 7.0\n",
        "# bool = Armazena a informação de VERDADEIRO (True) ou FALSO (False), devem ser escritas com a primeira letra maiúscula.\n",
        "# str = Armazena caracteres, textos. O conteudo deve ser estar entre \"\"aspas duplas, ou, ''aspas simples. Exemplo: 'Olá Mundo!' '7.5' ''(nesse caso está vazio).\n",
        "\n",
        "#Opções da função print\n",
        "\n",
        "#01 - forma mais simples\n",
        "print('01 - forma mais simples da função print')\n",
        "n1 = int (input('Digite um valor: '))\n",
        "n2 = int (input('Digite outro: '))\n",
        "s = n1 + n2\n",
        "print('A soma vale', s)\n",
        "print()\n",
        "\n",
        "#02 - usando a função .format\n",
        "print('02 - usando a função .format junto da função print')\n",
        "n1 = int (input('Digite um valor: '))\n",
        "n2 = int (input('Digite outro: '))\n",
        "s = n1 + n2\n",
        "print('A soma vale {}'.format(s))\n",
        "print()\n",
        "\n",
        "#03 - concatenando as variáveris com a função .format\n",
        "print('03 - concatenando as variáveris com a função .format')\n",
        "n1 = int (input('Digite um valor: '))\n",
        "n2 = int (input('Digite outro: '))\n",
        "s = n1 + n2\n",
        "print('A soma entre os valores {} e {} vale {}'.format(n1, n2, s))\n",
        "print()"
      ]
    },
    {
      "cell_type": "code",
      "execution_count": null,
      "metadata": {
        "id": "Q0PpGEzNYKcU"
      },
      "outputs": [],
      "source": [
        "#Desafio 03: Crie um script de leia dois numeros de tente mostar a soma entre eles.\n",
        "\n",
        "#Opção 01\n",
        "\n",
        "print('===== DESAFIO 03 =====')\n",
        "print('=== Operaçõe matemáticas entre dois valores ===')\n",
        "print('')\n",
        "print('Insira os valores abaixo.')\n",
        "n1 = int (input('Primeiro valor: ')) #ao criar uma variável sem tipificar (int, char, float etc.) ela é criada automaticamente no tipo str(String, texto), dessa forma não é possivel realizar operações matemáticas, porque o interpredador entende como texto, não como número.\n",
        "n2 = int (input('Segundo valor: '))  #ao tipificar uma variável e adicionar o valor via teclado a sintaxe é: VARIÁVEL = TIPO (INPUT('TEXTO'))\n",
        "resultado = n1 + n2  #para somar suas variáveis de numero inteiro é necessario usar o sinal de \"+\", e tipificar as variaveis como \"int\".\n",
        "print('A soma é', resultado)\n",
        "print()\n",
        "print('Parabéns, você venceu o Desafio 03!')\n",
        "print()\n",
        "\n",
        "#Opção 02\n",
        "print('===== DESAFIO 03 =====')\n",
        "print('=== Operaçõe matemáticas entre dois valores ===')\n",
        "print()\n",
        "print('Insira os valores abaixo.')\n",
        "n1 = int (input('Primeiro valor: ')) #ao criar uma variável sem tipificar (int, char, float etc.) ela é criada automaticamente no tipo str(String, texto), dessa forma não é possivel realizar operações matemáticas, porque o interpredador entende como texto, não como número.\n",
        "n2 = int (input('Segundo valor: '))  #ao tipificar uma variável e adicionar o valor via teclado a sintaxe é: VARIÁVEL = TIPO (INPUT('TEXTO')) print('Soma = ',n1+n2)\n",
        "print('Subtração = ',n1-n2)\n",
        "print('Divisão = ',n1/n2)\n",
        "print('Multiplicação = ',n1*n2)\n",
        "print()\n",
        "print('Parabéns, você venceu o Desafio 03!')"
      ]
    },
    {
      "cell_type": "markdown",
      "metadata": {
        "id": "LW3nM4N9bWEx"
      },
      "source": [
        "Aula 6b - Testando o método \"is\" na variável\n",
        "___________________________________________________\n",
        "Métodos:\n",
        "\n",
        "isalnum = bool\n",
        "Retorna True se a string for alfanumérica, False caso contrário.\n",
        "\n",
        "Uma string é alfanumérica se todos os caracteres na string forem alfanuméricos e houver pelo menos um caractere na string.\n",
        "___________________________________________________\n",
        "isalpha = bool\n",
        "Retorna True se a string for alfabética, False caso contrário.\n",
        "\n",
        "Uma string é alfabética se todos os caracteres na string forem alfabéticos e houver pelo menos um caractere na string.\n",
        "___________________________________________________\n",
        "isdecimal = bool\n",
        "Retorna True se a string for decimal, False caso contrário.\n",
        "\n",
        "Uma string é uma string decimal se todos os caracteres na string forem decimais e houver pelo menos um caractere na string.\n",
        "___________________________________________________\n",
        "isdigit = bool\n",
        "Retorna True se a string for uma string de dígitos, False caso contrário.\n",
        "\n",
        "Uma string é uma string de dígitos se todos os caracteres na string forem dígitos e houver pelo menos um caractere na string.\n",
        "___________________________________________________\n",
        "isidentifier = bool\n",
        "Retorna True se a string for um identificador Python válido, False caso contrário.\n",
        "\n",
        "Chame keyword.iskeyword(s) para testar se a string s é um identificador reservado, como \"def\" ou \"class\".\n",
        "___________________________________________________\n",
        "islower = bool\n",
        "Retorna True se a string for uma string minúscula, False caso contrário.\n",
        "\n",
        "Uma string é minúscula se todos os caracteres em maiúsculas na string forem minúsculos e houver pelo menos um caractere em maiúsculas na string.\n",
        "___________________________________________________\n",
        "isprintable = bool\n",
        "Retorna True se a string for imprimível, False caso contrário.\n",
        "\n",
        "Uma string é imprimível se todos os seus caracteres forem considerados imprimíveis em repr() ou se estiver vazio.\n",
        "___________________________________________________\n",
        "isspace = Retorna True se a string for uma string de espaço em branco, False caso contrário.\n",
        "\n",
        "Uma string é um espaço em branco se todos os caracteres na string forem espaços em branco e houver\n",
        "é pelo menos um caractere na string.\n",
        "___________________________________________________\n",
        "\n",
        "___________________________________________________\n",
        "___________________________________________________\n"
      ]
    },
    {
      "cell_type": "code",
      "execution_count": null,
      "metadata": {
        "id": "PB69LFSEhFg0"
      },
      "outputs": [],
      "source": [
        "#Aula 6b \n",
        "print('Testando o método is...')\n",
        "print()\n",
        "n = input('Digite algo: ')\n",
        "print()\n",
        "print('isalnum = Retorna True se a string for alfanumérica, False caso contrário: ',n.isalnum())\n",
        "print('isalpha = Retorna True se a string for alfabética, False caso contrário: ',n.isalpha())\n",
        "print('isdecimal = Retorna True se a string for decimal, False caso contrário: ',n.isdecimal())\n",
        "print('isdigit = Retorna True se a string for uma string de dígitos, False caso contrário: ',n.isdigit())\n",
        "print('isidentifier = Retorna True se a string for um identificador Python válido, False caso contrário: ',n.isidentifier())\n",
        "print('islower = Retorna True se a string for uma string minúscula, False caso contrário: ',n.islower())\n",
        "print('isprintable = Retorna True se a string for imprimível, False caso contrário: ',n.isprintable())\n",
        "print('isspace = Retorna True se a string for uma string de espaço em branco, False caso contrário: ',n.isspace())\n",
        "print()\n",
        "print('Parabéns você concluiu mais um exercício!')"
      ]
    },
    {
      "cell_type": "markdown",
      "metadata": {
        "id": "fjo0zYECDmAI"
      },
      "source": [
        "Aula 07a\n",
        "\n",
        "#Operadores aritiméticos\n",
        "\n",
        "+Adição\n",
        "\n",
        "-Subtração\n",
        "\n",
        "*Multiplicação\n",
        "\n",
        "/Divisão\n",
        "\n",
        "**Potência\n",
        "\n",
        "//Divisão por inteiro\n",
        "\n",
        "%Resto da divisão\n",
        "\n",
        "\n",
        "\n",
        "#Ordem de Procedência:\n",
        "\n",
        "() Parênteses\n",
        "\n",
        "** Potência\n",
        "\n",
        "*/ // %\n",
        "\n",
        "+-\n",
        "\n",
        "#Notas\n",
        "\\n --- quebra a linha na função print\n",
        "\n",
        "end='qualquer coisa' --- permite que duas linhas de função print sejam visualizadas na mesma linha.\n",
        "\n"
      ]
    },
    {
      "cell_type": "code",
      "execution_count": null,
      "metadata": {
        "id": "XZc_bxesK_zQ"
      },
      "outputs": [],
      "source": [
        "#Alula 07a\n",
        "\n",
        "print(5+3*2)\n",
        "print(5**2)\n",
        "print(5**3)\n",
        "print(19//2)\n",
        "print(19/2)\n",
        "print(365**522)\n",
        "print(18%2)\n",
        "print(122%3, end=' >>>> ')\n",
        "print(4**3)\n",
        "print('_'*50)\n",
        "nome = input('Qual seu nome? ')\n",
        "print('Prazer em te conhecher {}!'.format(nome))\n",
        "print('_'*50)\n",
        "n1 = int(input('Primeiro número: '))\n",
        "n2 = int(input('Segundo número: '))\n",
        "s = n1+n2\n",
        "m = n1*n2\n",
        "d = n1/n2\n",
        "di = n1//n2\n",
        "e = n1**n2\n",
        "print('A soma {};\\n a multiplicação {};\\n a divisão {};\\n a divisão inteiro {};\\n a potência {}. '.format(s,m,d,di,e))\n",
        "print('_'*50)\n",
        "\n"
      ]
    },
    {
      "cell_type": "markdown",
      "metadata": {
        "id": "HCMYAV3BYF64"
      },
      "source": [
        "ex005\n",
        "\n",
        "Faça um programa que leia um número inteiro e  mostre na tela o seu sucessor e antecessor."
      ]
    },
    {
      "cell_type": "code",
      "execution_count": null,
      "metadata": {
        "colab": {
          "base_uri": "https://localhost:8080/"
        },
        "id": "VOmrCM0IYZjF",
        "outputId": "6f73492e-4486-422f-8f10-0e92d682aac9"
      },
      "outputs": [
        {
          "name": "stdout",
          "output_type": "stream",
          "text": [
            "Descubra o antecessor e sucessor de qualquer número!\n",
            "Digite um número: 3\n",
            "Antecessor é 2;\n",
            " Sucessor é 4.\n"
          ]
        }
      ],
      "source": [
        "#ex005 - A)\n",
        "\n",
        "print('Descubra o antecessor e sucessor de qualquer número!')\n",
        "n = int(input('Digite um número: '))\n",
        "antecessor = n-1\n",
        "sucessor = n+1\n",
        "print('Antecessor é {};\\n Sucessor é {}.'.format(antecessor,sucessor))"
      ]
    },
    {
      "cell_type": "code",
      "execution_count": null,
      "metadata": {
        "colab": {
          "background_save": true,
          "base_uri": "https://localhost:8080/"
        },
        "id": "CwdhptfGIO0v",
        "outputId": "58f6e37d-c09b-4400-c98e-929a88b8d7c8"
      },
      "outputs": [
        {
          "name": "stdout",
          "output_type": "stream",
          "text": [
            "Descubra o antecessor e sucessor de qualquer número!\n",
            "\n"
          ]
        }
      ],
      "source": [
        "#005 - B)  outra forma de mostrar o resultado, quando não é necessário guardar o valor da váriael e sim apenas mostrar o resultado, fazemos o calculo diretamente.\n",
        "\n",
        "print('Descubra o antecessor e sucessor de qualquer número!')\n",
        "print()\n",
        "n = int(input('Digite qualquer número inteiro: '))\n",
        "print()\n",
        "print('Número base é {}'.format(n))\n",
        "print('O antecessor é {};\\n o sucessor é {}.'.format(n-1,n+1))\n",
        "print()"
      ]
    },
    {
      "cell_type": "markdown",
      "metadata": {
        "id": "QmIcT71NWidF"
      },
      "source": [
        "ex006\n",
        "\n",
        "Crie um algoritmo que leia um número e mostre o seu dobro, triplo e raiz quadrada.\n",
        "\n",
        "#Raiz quadrada com o método sqrt()\n",
        "\n",
        "O método `sqrt()` pertence ao módulo `math`, e esta é a forma mais recomendada para realizar o cálculo de uma raiz quadrada em Python.\n",
        "\n",
        "para usar um módulo é necessário digitar \"import módulo\"\n",
        "\n",
        "exemplo: `import math`\n",
        "\n",
        "cada módulo tem vários métodos dentro dele, e também podemos criar nossos módulos com seu conjunto de métodos.\n",
        "\n",
        "#Funções Matemáticas\n",
        "Vamos usar o módulo `math` \n",
        "\n",
        "Exemplos:\n",
        "\n",
        "`math.pi` - Retorna o valor de Pi.\n",
        "\n",
        "`math.sqrt(x)` - Retorna o valor de x.\n",
        "\n",
        "`math.fabs(x)` - Valor Absoluto de x.\n",
        "\n",
        "`math.factorial(x)` - Fatorial de x.\n",
        "\n",
        "`math.log10(x)` - Logaritmo de x na base 10.\n",
        "\n",
        "`math.pow(x,y)` - x elevado a y.\n",
        "\n",
        "`math.ceil(x)` -  Retorna o menor interio maior ou igual a x.\n",
        "\n",
        "`math.floor(x)` - Retornar o maior inteiro menor ou igual a x.\n",
        "\n",
        "=================================================\n"
      ]
    },
    {
      "cell_type": "code",
      "execution_count": null,
      "metadata": {
        "id": "Gp_b0noaW0zV"
      },
      "outputs": [],
      "source": [
        "\n",
        "\n",
        "#ex006\n",
        "import math\n",
        "print('Descubra o dobro, o triplo e a raiz quandrade de qualquer número!')\n",
        "n = float(input('Digique um número: '))\n",
        "dobro = n*2\n",
        "triplo = n*3\n",
        "raiz = math.sqrt(n)\n",
        "print('O dobro de {} é {},\\n o triplo é {} \\n e a raiz quadrada é {:.2f}!'.format(n,dobro,triplo,raiz))"
      ]
    },
    {
      "cell_type": "code",
      "execution_count": null,
      "metadata": {
        "id": "OfYjaCgUfhvz"
      },
      "outputs": [],
      "source": [
        "#ex006 B - Explorando o módulo math e seus métodos.\n",
        "import math\n",
        "print('Explorando o módulo math e seus métodos.')\n",
        "print()\n",
        "n = float(input('Digite qualquer número: '))\n",
        "elevado = float(input('Digite qualquer número para \"Elevar\": '))\n",
        "print()\n",
        "print('A raiz quadrada de {} é {}'.format(n,math.sqrt(n)))\n",
        "print('O valor absoluto de {} é {}'.format(n,math.fabs(n)))\n",
        "print('O fatorial de {} é {}'.format(n,math.factorial(n)))\n",
        "print('O logaritmo de {} na base 10 é {}'.format(n,math.log10(n)))\n",
        "print('{} elevado a {} é {}'.format(n,elevado,math.pow(n,elevado)))\n",
        "#print('{} é o menor inteiro maior ou igual a {}'.format(math.ceil(n),n))\n",
        "#print('{} é o maior inteiro menor ou igual a {}'.format(math.floor(n),n))\n",
        "print()\n",
        "print('Viu só o poder do Python?')"
      ]
    },
    {
      "cell_type": "markdown",
      "metadata": {
        "id": "zH16uK8xh2Pd"
      },
      "source": [
        "ex007\n",
        "\n",
        "Desenvolva um programa que leia as duas notas de um aluno, calcule e monstre a sua média.\n",
        "\n",
        "#Existem duas formas de calcular a média\n",
        "\n",
        "1 - Use a fórmula matemática \n",
        "\n",
        "2 - Use a função/método `mean()` das bibliotecas/módulos `numpy`, `statistics` ou `scipy`. \n"
      ]
    },
    {
      "cell_type": "code",
      "execution_count": null,
      "metadata": {
        "id": "nOT_ZbPMjvBF"
      },
      "outputs": [],
      "source": [
        "#ex007 - A) exemplo com o módulo scipy\n",
        "\n",
        "import scipy\n",
        "print('Qual a nota média dos alunos?')\n",
        "print()\n",
        "nomealuno = str(input('Informe o nome do aluno: '))\n",
        "p1 = float(input('Informe a nota P1: '))\n",
        "p2 = float(input('Informe a nota P2: '))\n",
        "lista = [p1,p2] #criado uma variavel com lista de numéros para ser usados no cálculo da média do aluno,\n",
        "# de acordo com as notas lançadas nas váriaveris p1 e p2.\n",
        "print()\n",
        "print('A nota média do aluno(a) {} é {}.'.format(nomealuno, scipy.mean(lista)))\n",
        "print()"
      ]
    },
    {
      "cell_type": "code",
      "execution_count": null,
      "metadata": {
        "id": "mro62a79C1jh"
      },
      "outputs": [],
      "source": [
        "#ex007 - B) exemplo com o módulo numpy\n",
        "\n",
        "import numpy\n",
        "print('Qual a nota média dos alunos?')\n",
        "print()\n",
        "nomealuno = str(input('Informe o nome do(a) Aluno(a): '))\n",
        "p1 = float(input('Informe a nota P1: '))\n",
        "p2 = float(input('Infoprma a nota P2: '))\n",
        "lista = [p1,p2]\n",
        "nfinal = numpy.mean(lista)\n",
        "print()\n",
        "print('A média final do aluno(a) {} é {}.'.format(nomealuno,nfinal))\n",
        "print()\n",
        "if nfinal >= 7:\n",
        "  print('Aluno(a) Aprovado!')\n",
        "else:\n",
        "  print('Aluno(a) Reprovado!')"
      ]
    },
    {
      "cell_type": "code",
      "execution_count": null,
      "metadata": {
        "id": "P_VZ-4Uk7nFQ"
      },
      "outputs": [],
      "source": [
        "#ex007 - ) Usando extrutura condicional if-else\n",
        "\n",
        "import scipy\n",
        "print('Qual a nota média dos alunos?')\n",
        "print()\n",
        "nomealuno = str(input('Informe o nome do aluno: '))\n",
        "p1 = float(input('Informe a nota P1: '))\n",
        "p2 = float(input('Informe a nota P2: '))\n",
        "lista = [p1,p2] #criado uma variavel com lista de numéros para ser usados no cálculo da média do aluno,\n",
        "# de acordo com as notas lançadas nas váriaveris p1 e p2.\n",
        "nfinal = scipy.mean(lista) #criado uma variável para armazenar o resuldado do cálculo da média do aluno.\n",
        "print()\n",
        "print('A nota média do(a) aluno(a) {} é {}.'.format(nomealuno,nfinal))\n",
        "print()\n",
        "if nfinal >= 7: # if == E se, o aluno tem a média >= 7, imprima na tela \"Aluno(a) Aprovado!\"\n",
        "  print('Aluno(a) Aprovado!')\n",
        "else: # else == senão, o que não atingiu a média, imprima na tela \"Aluno(a) Reprovado!\"\n",
        "  print('Aluno(a) Reprovado')\n",
        "print()"
      ]
    },
    {
      "cell_type": "markdown",
      "metadata": {
        "id": "LTXJC4nrFydy"
      },
      "source": [
        "ex008\n",
        "\n",
        "Escreva um programa que leia um valor em metros e o exiba convertido em centimetros e milimetros.\n",
        "\n"
      ]
    },
    {
      "cell_type": "code",
      "execution_count": null,
      "metadata": {
        "id": "H5744583PBMt"
      },
      "outputs": [],
      "source": [
        "#ex008 - A) Meu jeito\n",
        "\n",
        "print('Conversor de medidas em METROS para CENTÍMETROS e MILÍMETROS')\n",
        "print()\n",
        "metro = float(input('Digite a medida em METROS: '))\n",
        "c = metro * 100 # váriavel c (centimetro)\n",
        "m = metro * 1000 # váriavel m (metros)\n",
        "print()\n",
        "print('Resultados:\\n Centímetros: {:.1f}\\n Milímetros: {:.1f}.'.format(c,m))\n",
        "print()\n",
        "\n",
        "# dentro do {:.0f}, quer dizer que depois do ponto eu quero 0 casas decimais do número float"
      ]
    },
    {
      "cell_type": "markdown",
      "metadata": {
        "id": "PobT5pqdGHK4"
      },
      "source": [
        "ex009\n",
        "\n",
        "Faça um programa que leia um número inteiro qualquer e mostre na tela a sua tabuada."
      ]
    },
    {
      "cell_type": "code",
      "execution_count": null,
      "metadata": {
        "id": "56rfVVMsSVc-"
      },
      "outputs": [],
      "source": [
        "#009 - A) Meu jeito\n",
        "\n",
        "print('Descubra a tabuada de qualquer número')\n",
        "print()\n",
        "n = int(input('Digite um número inteiro: ')) # várive n (número)\n",
        "print()\n",
        "print('Tabuada do {}'.format(n))\n",
        "print()\n",
        "print('{} x 0 = {}'.format(n,n*0))\n",
        "print('{} x 1 = {}'.format(n,n*1))\n",
        "print('{} x 2 = {}'.format(n,n*2))\n",
        "print('{} x 3 = {}'.format(n,n*3))\n",
        "print('{} x 4 = {}'.format(n,n*4))\n",
        "print('{} x 5 = {}'.format(n,n*5))\n",
        "print('{} x 6 = {}'.format(n,n*6))\n",
        "print('{} x 7 = {}'.format(n,n*7))\n",
        "print('{} x 8 = {}'.format(n,n*8))\n",
        "print('{} x 9 = {}'.format(n,n*9))\n",
        "print('{} x 10 = {}'.format(n,n*10))\n",
        "print()"
      ]
    },
    {
      "cell_type": "code",
      "execution_count": null,
      "metadata": {
        "id": "3WyixY6oZL-m"
      },
      "outputs": [],
      "source": [
        "\n",
        "\n",
        "#ex009 - B) Jeito curso em vídeo\n",
        "\n",
        "print('Descubra a tabuada de qualquer número')\n",
        "print()\n",
        "n = int(input('Digite um número inteiro: '))\n",
        "print()\n",
        "print('Tabuada do {}:'.format(n))\n",
        "print()\n",
        "print('{} x {} = {}'.format(n,1,n*1))\n",
        "print('{} x {} = {}'.format(n,2,n*2))\n",
        "print('{} x {} = {}'.format(n,3,n*3))\n",
        "print('{} x {} = {}'.format(n,4,n*4))\n",
        "print('{} x {} = {}'.format(n,5,n*5))\n",
        "print('')"
      ]
    },
    {
      "cell_type": "code",
      "execution_count": null,
      "metadata": {
        "id": "DoBkwu4KZ576"
      },
      "outputs": [],
      "source": [
        "#ex009 - C) Multipique qualquer número\n",
        "\n",
        "print('### Multiplique qualquer número ###')\n",
        "print()\n",
        "num1 = float(input('Digite o primeiro número: '))\n",
        "num2 = float(input('Digite o segundo número: ')) \n",
        "print()\n",
        "print('Resultado: {:.2f} '.format(num1*num2))\n"
      ]
    },
    {
      "cell_type": "markdown",
      "metadata": {
        "id": "neeIbldLGopw"
      },
      "source": [
        "ex010\n",
        "\n",
        "Crie um programa que leia quanto dinheiro uma pessoa tem na carteira e mostre quantos Dólares ela pode comprar.\n",
        "\n",
        "\n",
        "#Resolução ex10 A\n",
        "\n",
        "`import requests` - Importei a biblioteca \"requests\" para poder fazer a requisição de informações na API.\n",
        "\n",
        "`import json` - Importei o módulo json para fazer a leitura do dicionário da API, onde contem os valores da cotação do USDBRL.\n",
        "\n",
        "`req = requests.get('http://economia.awesomeapi.com.br/json/last/USD-BRL')` - Criei uma váriavel para armazenar a requisição da API.\n",
        "\n",
        "`cotacao = req.json()` - Criei uma variavel para armazenar o dicionário do retorno da requisição.\n",
        "\n",
        "`cotacaofloat = float(cotacao['USDBRL']['bid'])` - Convert de str para float o valor da contação do Dolar.\n",
        "\n",
        "`comprar = brldisponivel / cotacaofloat` - Realizei o calculo para obter a quantidade de dolares que posso comprar com a quantidade de reais disponiveis.\n",
        "\n",
        "\n"
      ]
    },
    {
      "cell_type": "code",
      "execution_count": null,
      "metadata": {
        "colab": {
          "base_uri": "https://localhost:8080/"
        },
        "id": "8cT5XYDCplp2",
        "outputId": "a0467157-e0bb-4164-c44e-36511a1886e5"
      },
      "outputs": [
        {
          "output_type": "stream",
          "name": "stdout",
          "text": [
            "##### Descubra quantos Dolares você pode comprar #####\n",
            "\n",
            "Valor disponível em Reais R$: 234.34\n",
            "\n",
            "Cotação atual do Dolar em Reais é R$5.24\n",
            "\n",
            "Com R$234.34 Reais, você pode comprar USD$44.71 Dolares.\n",
            "\n"
          ]
        }
      ],
      "source": [
        "#Resolução ex010 A\n",
        "\n",
        "import requests\n",
        "import json \n",
        "print('##### Descubra quantos Dolares você pode comprar #####')\n",
        "print()\n",
        "brldisponivel = float(input('Valor disponível em Reais R$: '))\n",
        "req = requests.get('http://economia.awesomeapi.com.br/json/last/USD-BRL')\n",
        "cotacao = req.json()\n",
        "cotacaofloat = float(cotacao['USDBRL']['bid'])\n",
        "comprar = brldisponivel / cotacaofloat\n",
        "print()\n",
        "#print(req.json()) # imprimir os valores do dicionário.\n",
        "print('Cotação atual do Dolar em Reais é R${:.2f}'.format(cotacaofloat))\n",
        "print()\n",
        "print('Com R${:.2f} Reais, você pode comprar USD${:.2f} Dolares.'.format(brldisponivel,comprar))\n",
        "print()"
      ]
    },
    {
      "cell_type": "markdown",
      "metadata": {
        "id": "ZsnkQFIZHA75"
      },
      "source": [
        "ex011\n",
        "\n",
        "Faça um programa que leia a largura e a altura de uma parede em metros, calcule a sua área e a quantidade de tinta necessária para pintá-la, sabendo que cada litro de tinta pinta uma área de 2 metros quadrados.\n"
      ]
    },
    {
      "cell_type": "code",
      "execution_count": null,
      "metadata": {
        "id": "S9kFCH5mfGPJ"
      },
      "outputs": [],
      "source": [
        "#ex011\n",
        "\n",
        "print( '#'*5, 'Descubra a quantidade de tinta para pintar uma parede', '#'*5)\n",
        "print()\n",
        "largura = float(input('Qual a largura da parede? Exemplo: xx.xx  '))\n",
        "altura = float(input('Qual a altura da parede? Exemplo: xx.xx  '))\n",
        "mt2 = float(largura*altura)\n",
        "tinta = float(mt2/2)\n",
        "print()\n",
        "print('A dimensão da sua parece é de {} X {}.'.format(largura,altura))\n",
        "print()\n",
        "print('Sua parede tem {:.2f}m²'.format(mt2))\n",
        "print()\n",
        "print('Para pintar sua parece é necessário {:.2f} litros de tinta.'.format(tinta))\n"
      ]
    },
    {
      "cell_type": "markdown",
      "metadata": {
        "id": "RrrOaTiaIMXY"
      },
      "source": [
        "ex012\n",
        "\n",
        "Faça um algoritmo que leia o preço de um produto e mostre seu novo preço, com 5% de desconto.\n"
      ]
    },
    {
      "cell_type": "code",
      "execution_count": null,
      "metadata": {
        "id": "MR2xMS0azKC9"
      },
      "outputs": [],
      "source": [
        "#ex012 - A) Meu jeito\n",
        "\n",
        "print('#'*5,'Calcule o desconto de qualquer produto','#'*5)\n",
        "print()\n",
        "preco = float(input('Qual o preço do produto? Exemplo: xx.xx   R$:'))\n",
        "desconto = float(input('Qual desconto aplicado (%)? Exemplo: xx.xx  :'))\n",
        "valordesc = float(preco*desconto/100)\n",
        "precofinal = float(preco-valordesc)\n",
        "print()\n",
        "print('O preço final do produto com {:.2f}% de desconto é R${:.2f}.'.format(desconto,precofinal))\n",
        "print()\n",
        "print('Você economizou R${:.2f}.'.format(valordesc))"
      ]
    },
    {
      "cell_type": "markdown",
      "metadata": {
        "id": "YY0nj05oIPoA"
      },
      "source": [
        "ex013\n",
        "\n",
        "Faça um algoritmo que leia o salário de um funcionário e mostre seu novo salário, com 15% de aumento."
      ]
    },
    {
      "cell_type": "code",
      "execution_count": null,
      "metadata": {
        "id": "D24C-4aj4697"
      },
      "outputs": [],
      "source": [
        "#ex013 - A) Meu jeito\n",
        "\n",
        "print('#'*5,'Reajuste salarial','#'*5)\n",
        "print()\n",
        "salarioatual = float(input('Informe o salário atual do colaborador. Exemplo: xxxx.xx   R$' ))\n",
        "print()\n",
        "reajuste = float(input('Porcentagem do reajuste. Exemplo: xx.x   '))\n",
        "print()\n",
        "valorreajuste = float(salarioatual*reajuste/100)\n",
        "salariofinal = float(salarioatual+valorreajuste)\n",
        "print('Com o reajuste de {:.1f}%, o salário passará de R${:.2f} para R${:.2f}.'.format(reajuste,salarioatual,salariofinal))\n",
        "print()"
      ]
    },
    {
      "cell_type": "markdown",
      "metadata": {
        "id": "-H6kW15U_LHC"
      },
      "source": [
        "ex014\n",
        "\n",
        "Escreva um programa que converta uma temperatura digitando em graus Celsius e converta para graus Fahrenheit.\n"
      ]
    },
    {
      "cell_type": "code",
      "execution_count": null,
      "metadata": {
        "id": "xxL0xjtT_vqo"
      },
      "outputs": [],
      "source": [
        "#ex14 A) Meu jeito\n",
        "\n",
        "print('#'*5,'Converta a temperatura de °C(Celsius) para °F(Fahrenheit)','#'*5)\n",
        "print()\n",
        "tempC = float(input('Digite a temperatura em °C (Celsius): '))\n",
        "tempF = float(tempC*1.8+32)\n",
        "print()\n",
        "print('A temperatura em Celsius {:.2f}°C em Fahrenheit é {:.2f}°F'.format(tempC,tempF))"
      ]
    },
    {
      "cell_type": "markdown",
      "metadata": {
        "id": "Um_M1rWaHROq"
      },
      "source": [
        "ex015\n",
        "\n",
        "Escreva um programa que pergunte a quantidade de Km percorridos por um carro alugado e a quantidade de dias pelos quais ele foi alugado. Calcule o preço a pagar, sabendo que o carro custa R$60 por dia e R$0,15 por Km rodado.\n"
      ]
    },
    {
      "cell_type": "code",
      "execution_count": null,
      "metadata": {
        "id": "LJqfi9_vHXgx"
      },
      "outputs": [],
      "source": [
        "#ex015\n",
        "\n",
        "print('#'*5,'Calcule o aluguel do carro', '#'*5)\n",
        "print()\n",
        "KM_RODADO = float(input('Quantos KM pretende rodar?  '))\n",
        "DIAS_ALUGADO = int(input('Quantos dias de locação?  '))\n",
        "DIARIA = float(input('Qual valor da diária da locação?  R$'))\n",
        "PRECO_KM_RODADO = float(input('Qual valor do KM rodado?  R$'))\n",
        "VALOR_LOCACAO = float((DIAS_ALUGADO*DIARIA)+(KM_RODADO*PRECO_KM_RODADO))\n",
        "print()\n",
        "print('Rodando {}KM em {} dias, o valor da locação será R${:.2f}.'.format(KM_RODADO,DIAS_ALUGADO,VALOR_LOCACAO))"
      ]
    },
    {
      "cell_type": "markdown",
      "metadata": {
        "id": "LKYqcO9eMmC6"
      },
      "source": [
        "Aula 08 A - UTILIZANDO MÓDULOS/BIBLIOTECAS\n",
        "\n",
        "Para instalar os Módulos devemos usar o comando `import nome módulo`.\n",
        "\n",
        "Exemplo:  `import math` - importamos um módulo com vários operadores(funções) matemáticos.\n",
        "\n",
        "Dentro do módulo/biblioteca `math` tem diversas funções que podem ser usadas. \n",
        "\n",
        "Tais como:\n",
        "\n",
        "`ceil`\n",
        "\n",
        "`floor`\n",
        "\n",
        "`trunc`\n",
        "\n",
        "`pow`\n",
        "\n",
        "`sqrt`\n",
        "\n",
        "`factorial`\n",
        "\n",
        "\n",
        "Também é possível importar apenas a função a ser utilidada do módulo/biblioteca em questão, assim economizando espaço na memória.\n",
        "\n",
        "O comando utilizado é `form nome_módulo import nome_função `\n",
        "\n",
        "Exemplo:  `form math import sqrt` - Importamos apenas a função `sqrt` da módulo/biblioteca `math`, para realizar calculo da raiz quadrada.\n"
      ]
    },
    {
      "cell_type": "code",
      "execution_count": null,
      "metadata": {
        "id": "0xZ0XEqQHpLu"
      },
      "outputs": [],
      "source": [
        "#Aula 08 A\n",
        "\n",
        "\n",
        "\n"
      ]
    },
    {
      "cell_type": "markdown",
      "metadata": {
        "id": "NcP-MXkw70VI"
      },
      "source": [
        "ex016\n",
        "\n",
        "Crie um programa que leia um número Real qualquer pelo teclado e mostre na tela a sua porção Inteira.\n",
        "\n"
      ]
    },
    {
      "cell_type": "code",
      "execution_count": null,
      "metadata": {
        "colab": {
          "base_uri": "https://localhost:8080/"
        },
        "id": "VeOOCI1z8Uxp",
        "outputId": "057c7888-0794-4131-cb17-d3055b0ef5d4"
      },
      "outputs": [
        {
          "name": "stdout",
          "output_type": "stream",
          "text": [
            "##### Saiba a porção inteira de qualquer número #####\n",
            "\n",
            "Digite qualquer número:  6.127\n",
            "\n",
            "O número inteiro de 6.127 é 6\n"
          ]
        }
      ],
      "source": [
        "#ex016 - A) Meu jeito\n",
        "\n",
        "import math\n",
        "\n",
        "print('#'*5,'Saiba a porção inteira de qualquer número','#'*5)\n",
        "print()\n",
        "num = float(input('Digite qualquer número:  '))\n",
        "numint = math.trunc(num)\n",
        "print()\n",
        "print('O número inteiro de {} é {}'.format(num,numint))"
      ]
    },
    {
      "cell_type": "code",
      "execution_count": null,
      "metadata": {
        "colab": {
          "base_uri": "https://localhost:8080/"
        },
        "id": "T3Fg1Yf4_zCd",
        "outputId": "88b69b7c-d242-4579-cf50-4ab4460da7f0"
      },
      "outputs": [
        {
          "name": "stdout",
          "output_type": "stream",
          "text": [
            "##### Saiba a porção inteira de qualquer número #####\n",
            "\n",
            "Digite qualquer número:  8.9\n",
            "\n",
            "O número inteiro de 8.9 é 8\n"
          ]
        }
      ],
      "source": [
        "#ex016 - B) Jeito do professor\n",
        "\n",
        "print('#'*5,'Saiba a porção inteira de qualquer número','#'*5)\n",
        "print()\n",
        "num = float(input('Digite qualquer número:  '))\n",
        "print()\n",
        "print('O número inteiro de {} é {}'.format(num,math.trunc(num)))"
      ]
    },
    {
      "cell_type": "code",
      "execution_count": null,
      "metadata": {
        "colab": {
          "base_uri": "https://localhost:8080/"
        },
        "id": "s-uer3IDAcJO",
        "outputId": "702324b7-4dec-4915-e8e2-1c0971795dd8"
      },
      "outputs": [
        {
          "name": "stdout",
          "output_type": "stream",
          "text": [
            "##### Saiba a porção inteira de qualquer número #####\n",
            "\n",
            "Digite qualquer número:  12.876\n",
            "\n",
            "O número inteiro de 12.876 é 12\n"
          ]
        }
      ],
      "source": [
        "#ex016 - C) Importação apenas da função trunc\n",
        "\n",
        "from math import trunc\n",
        "\n",
        "print('#'*5,'Saiba a porção inteira de qualquer número','#'*5)\n",
        "print()\n",
        "num = float(input('Digite qualquer número:  '))\n",
        "print()\n",
        "print('O número inteiro de {} é {}'.format(num,trunc(num)))\n"
      ]
    },
    {
      "cell_type": "code",
      "execution_count": null,
      "metadata": {
        "colab": {
          "base_uri": "https://localhost:8080/"
        },
        "id": "1CP54kUhCGe8",
        "outputId": "21f87b46-d5e8-4357-b987-cab33d6b634d"
      },
      "outputs": [
        {
          "name": "stdout",
          "output_type": "stream",
          "text": [
            "##### Saiba a porção inteira de qualquer número #####\n",
            "\n",
            "Digite qualquer número:  99.98765\n",
            "\n",
            "O número inteiro de 99.98765 é 99.\n"
          ]
        }
      ],
      "source": [
        "#ex016 - D) Jeito do professor\n",
        "\n",
        "print('#'*5,'Saiba a porção inteira de qualquer número','#'*5)\n",
        "print()\n",
        "num = float(input('Digite qualquer número:  '))\n",
        "print()\n",
        "print('O número inteiro de {} é {}.'.format(num,int(num)))\n"
      ]
    },
    {
      "cell_type": "markdown",
      "metadata": {
        "id": "fS2wJH4eDmVN"
      },
      "source": [
        "ex017\n",
        "\n",
        "Faça um programa que leia o comprimento do cateto oposto e do cateto adjacente de um triângulo retângulo. Calcule e mostre o comprimento da hipotenusa.\n"
      ]
    },
    {
      "cell_type": "code",
      "execution_count": null,
      "metadata": {
        "id": "K9I5a2LMDq4F"
      },
      "outputs": [],
      "source": [
        "#ex17 - A) Jeito do professor usando a função hypot da biblioteca math\n",
        "\n",
        "from math import hypot\n",
        "\n",
        "print('#'*5,'Cálcule o comprimento da Hipotenusa','#'*5)\n",
        "print()\n",
        "CATETO_O = float(input('Digite o Cateto Oposto:  '))\n",
        "print()\n",
        "CATETO_A = float(input('Digite o Cateto Adjacente:  '))\n",
        "print()\n",
        "HIPOTENUSA = hypot(CATETO_O, CATETO_A) \n",
        "print()\n",
        "print('A Hipotenusa é {:.2f}'.format(HIPOTENUSA))\n"
      ]
    },
    {
      "cell_type": "markdown",
      "metadata": {
        "id": "_j9WHCVJJvbP"
      },
      "source": [
        "ex018 \n",
        "\n",
        "Faça um programa que leia um ângulo qualquer e mostre na tela o valor do seno, cosseno e tangente desse ângulo.\n",
        "\n"
      ]
    },
    {
      "cell_type": "code",
      "execution_count": null,
      "metadata": {
        "id": "vaWda-LhKa55"
      },
      "outputs": [],
      "source": [
        "#ex018 - A)\n",
        "\n",
        "from math import sin, cos, tan, radians\n",
        "\n",
        "print('Descubra o Seno, Cosseno e Tangente de qualquer Ângulo')\n",
        "print()\n",
        "angulo = float(input('Digite o Ângulo: '))\n",
        "\n",
        "seno = float(sin(radians(angulo)))  # convertendo a variabel *angulo* em radiante e depois calculando o seno do angulo.\n",
        "cosseno = float(cos(radians(angulo)))\n",
        "tangente = float(tan(radians(angulo)))\n",
        "\n",
        "print()\n",
        "print('Seno: {:.2f} '.format(seno))\n",
        "print('Cosseno: {:.2f} '.format(cosseno))\n",
        "print('Tangente: {:.2f} '.format(tangente))\n",
        "\n",
        "\n"
      ]
    },
    {
      "cell_type": "markdown",
      "metadata": {
        "id": "ZhEnPqMn0dm_"
      },
      "source": [
        "ex019\n",
        "\n",
        " Um professor quer sortear um dos seus quatro alunos para apagar o quadro. Faça um programa que ajude ele, lendo o nome dos alunos e escrevendo na tela o nome do escolhido.\n",
        "\n",
        " "
      ]
    },
    {
      "cell_type": "code",
      "execution_count": null,
      "metadata": {
        "id": "w1qxP8EL0hdv"
      },
      "outputs": [],
      "source": [
        "#ex019 - A) Meu jeito\n",
        "\n",
        "import random\n",
        "\n",
        "print('Sorteio dos alunos')\n",
        "print()\n",
        "alunos = []\n",
        "nome_aluno = str(input('Nome do Aluno: ')) # o primeito nome não sai na lista, porque estou resetando o a lista. A solução é alerar a ordem de comandos no grupo do while, ver o ex019 B.\n",
        "#while nome_aluno !='':\n",
        "while nome_aluno:\n",
        "  nome_aluno = str(input('Nome do Aluno: '))\n",
        "  alunos.append(nome_aluno)\n",
        "  sorteado = random.choice(alunos)\n",
        "print()\n",
        "print('Alunos participantes: {}'.format(alunos))\n",
        "print()\n",
        "print('O aluno escolhido foi {}.'.format(sorteado))"
      ]
    },
    {
      "cell_type": "code",
      "execution_count": null,
      "metadata": {
        "id": "dysYqDHM59Sx"
      },
      "outputs": [],
      "source": [
        "#ex019 - B) outro teste\n",
        "\n",
        "import random\n",
        "\n",
        "print('Sorteio dos alunos')\n",
        "print()\n",
        "alunos = []\n",
        "nome_aluno = (input('Nome do Aluno: '))\n",
        "while nome_aluno:\n",
        "  alunos.append(nome_aluno)\n",
        "  nome_aluno = (input('Nome do Aluno: '))\n",
        "  if nome_aluno == '': break\n",
        "  sorteado = random.choice(alunos)\n",
        "print()\n",
        "print('Alunos participantes: {}'.format(alunos))\n",
        "print()\n",
        "print('O aluno escolhido foi {}.'.format(sorteado))"
      ]
    },
    {
      "cell_type": "markdown",
      "source": [
        "ex020\n",
        "\n",
        "O mesmo professor do desafio 19 quer sortear a ordem de apresentação de trabalhos dos alunos. Faça um programa que leia o nome dos quatro alunos e mostre a ordem sorteada.\n",
        "\n",
        "\n",
        "random.shuffle(lista)"
      ],
      "metadata": {
        "id": "R3Sub8zgLs_y"
      }
    },
    {
      "cell_type": "code",
      "source": [
        "#ex020  A) Do meu jeito\n",
        "\n",
        "import random\n",
        "# from random import shuffle - dessa forma importo apenas a função shuffle do módulo/biblioteca random.\n",
        "\n",
        "print('Qual a orde de apresentação do trabalho?')\n",
        "print()\n",
        "alunos = []\n",
        "alunos_participantes = (input('Informe o nome dos alunos: '))\n",
        "while alunos_participantes:\n",
        "   alunos.append(alunos_participantes)\n",
        "   alunos_participantes = input('Informe o nome dos alunos: ')\n",
        "   if alunos_participantes == '': break\n",
        "   random.shuffle(alunos)\n",
        "print()\n",
        "print('A ordem de apresentação será: {}'.format(alunos))\n"
      ],
      "metadata": {
        "id": "teAhRw3NL5Uf"
      },
      "execution_count": null,
      "outputs": []
    },
    {
      "cell_type": "markdown",
      "source": [
        "ex021 \n",
        "\n",
        "Faça um programa em Python que abra e reproduza o áudio de um arquivo MP3.\n"
      ],
      "metadata": {
        "id": "BDZGQr9hQ7Cb"
      }
    },
    {
      "cell_type": "code",
      "source": [
        "#ex021  A) Meu jeito - apenas da o play na música, porem não pausa e outras funções.\n",
        "\n",
        "from playsound import playsound \n",
        "playsound ('D:\\Jonatas-SALVARAQUI\\EstudosTI\\Python\\cursoemvideo\\musica julia.mp3')\n"
      ],
      "metadata": {
        "id": "lkl4fKnAQ_dy"
      },
      "execution_count": null,
      "outputs": []
    },
    {
      "cell_type": "code",
      "source": [
        "#ex021   B) Jeito do professor\n",
        "\n",
        "import pygame\n",
        "pygame.mixer.init()\n",
        "pygame.mixer.music.load('D:\\Jonatas-SALVARAQUI\\EstudosTI\\Python\\cursoemvideo\\musica.mp3')\n",
        "pygame.mixer.music.play()\n"
      ],
      "metadata": {
        "id": "j2rM8H12tPxe"
      },
      "execution_count": null,
      "outputs": []
    },
    {
      "cell_type": "markdown",
      "source": [
        "Aula 09\n",
        "\n",
        "Manipulando texto"
      ],
      "metadata": {
        "id": "lEa7-Ctewsi-"
      }
    },
    {
      "cell_type": "code",
      "source": [
        "#aula 09\n",
        "\n",
        "\n",
        "frase = 'Curso em Vídeo Python'\n",
        "\n",
        "# Fatiamento\n",
        "\n",
        "print('01 - ', frase[9:13]) #o ultimo valor (13) não aparece no print do indice da letra.\n",
        "print('02 - ', frase[9:21]) #\n",
        "print('03 - ', frase[9:21:2]) # vai mostrar as letras do indice do 9 ao 21 pulando de 2 em 2.\n",
        "print('04 - ', frase[:5]) # quando eu omito o ponto de partida colocando :(dois pontos), ele entende que deve começar da posição zero até a possição final informada, no caso a posição 5.\n",
        "print('05 - ', frase[15:]) # o mesmo recurso usado anteriormente, porem indicando apenas a posição de inicio da leitura do indice indo até o final.\n",
        "print('06 - ', frase[9::3]) # vai ler a partir da posição 9 pulando de 3 em 3 até a ultima posição.\n",
        "print('07 - ', frase[-4]) # Podemos usar indices negativos, nesse caso a ordem será inversa, começando do último até o primeiro.\n",
        "\n",
        "print()\n",
        "\n",
        "# Análise \n",
        "\n",
        "print('08 - ', len(frase)) # len é uma função embutida que retorna o comprimento da string com um número inteiro.\n",
        "print('09 - ', frase.count('o')) # a função .count é usada para contar os elementos de uma lista e também de uma string. Ele vai contar quantas letras 'o' tem dentro da string.\n",
        "print('10 - ', frase.count('o', 0, 13)) # fez a leitura do indice do 0 ao 13 e mostra a quantidade de letras 'o' nesse intervalo do indice.\n",
        "print('11 - ', frase.find('deo')) # função find (encontrar), encontra a posição do indice o caracter desejado.\n",
        "print('12 - ', frase.find('Android')) # quando eu tento buscar calquer caracter que não tem no indice, é apresentado a mensagem de erro '-1'\n",
        "print('13 - ', 'Curso' in frase) # 'in' é um operador de associação, vai que retornar verdadeiro(True) ou falso(False) na busca de um conjunto de caracrter na string.\n",
        "print('14 - ', 'Paulo' in frase) # nesse exemplo não tem 'Paulo' no conjunto de caracter da variavel 'frase', portanto retornou como False.\n",
        "\n",
        "#print(frase[30]) # deu erro porque tentei acessar um indice que esta fora do range da cadeia de caracteres da variavel 'frase'.\n",
        "\n",
        "print()\n",
        "\n",
        "#Imutalidade\n",
        "\n",
        "nome = 'jonatas'\n",
        "print('15 -', id(nome))  #a função id(), retorna identidade de um objeto. Identidade no Python é o valor de referência do endereço de memória. Os resultados que serão impressos não serão iguais, mostrando que as identidades da variável nome são distintas, mostrando um objeto diferente do que foi criado.\n",
        "nome = 'patricia'\n",
        "print('16 -', id(nome))\n",
        "\n",
        "print()\n",
        "\n",
        "# Transformação\n",
        "\n",
        "#nova_frase = frase.replace('Pyhton', 'Android') # não funcionou\n",
        "#print('17 - ', nova_frase) # não funcionou\n",
        "\n",
        "print('18 - ', frase.upper()) # com o método 'upper', retornamos uma cópia da string com todas as letras minúsculas convertidas em maiúsculas.\n",
        "print('19 - ', frase.lower()) # com o método 'lower', retornamos uma cópia da string com todas as letras maiúsculas convertidas em minúsculas.\n",
        "print('20 - ', frase.capitalize()) # com o método 'capitalize', Mantem a primeira letra da string em MAIUSCULA.\n",
        "print('21 - ', frase.title()) # com o método 'title', mantem o primeiro caracter após o espaço com letra MAIUSCULA.\n",
        "frase2 = '             Aprenda Python  '\n",
        "print(frase2)\n",
        "print('22 - ', frase2.strip()) # com o método 'strip' eliminamos os espaços posicionados no inicio e final das strings.\n",
        "print('23 - ', frase2.rstrip()) # com o método 'rstrip', eliminamos os espaço posicionados ao lado direito da string.\n",
        "print('24 - ', frase2.lstrip()) # com o método 'lstrip', eliminamos os espaços posicionados ao lado esquerdo da string.\n",
        "\n",
        "\n",
        "# Divisão\n",
        "\n",
        "print()\n",
        "print('24 - ', frase.split()) # essa função vai dividir o texto criando uma lista com as palavras divididas da String."
      ],
      "metadata": {
        "id": "A1N0LG5yw5V7"
      },
      "execution_count": null,
      "outputs": []
    },
    {
      "cell_type": "code",
      "source": [
        "#ex022: Crie um programa que leia o nome completo de uma pessoa e mostre:\n",
        "#– O nome com todas as letras maiúsculas e minúsculas.\n",
        "#– Quantas letras ao todo (sem considerar espaços).\n",
        "#– Quantas letras tem o primeiro nome.\"\"\"\n",
        "\n",
        "print('Resolusão do exercício ex022')\n",
        "print()\n",
        "nome = str(input('Digite um nome completo: ')).strip()\n",
        "# a função strip() elimina os espaços no inicio e final da string.\n",
        "\n",
        "print()\n",
        "print('Seu nome em minúsculas, {}.'.format(nome.lower()))\n",
        "# a função lower() converte a string em letas minúsculas.\n",
        "\n",
        "print()\n",
        "print('Seu nome em MAIÚSCULAS, {}'.format(nome.upper()))\n",
        "\n",
        "# a função upper() converte a string em letras maiúsculas.\n",
        "print()\n",
        "print('Seu nome tem {} caracteres'.format(len(nome) - nome.count(' ')))\n",
        "# a função len() conta quantos caracteres tem uma string, porém conta tb os espaçõs entre elas\n",
        "# a função count() vai contar o numero que as ocorrencias/caracteres se repetem em uma string...\n",
        "#... no acaso acima, utilizamo o - count(' ') para contar os espações entre os nomes,...\n",
        "#... assim ele subtraiu os espaços na função len().\n",
        "\n",
        "print()\n",
        "separa = nome.split()\n",
        "# criado a variavel \"separa\" para armazenar a lista da função split()\n",
        "# a função split() cria uma lista com os caracteres de uma string, usando o espaço como separador...\n",
        "#... exemplo \"João da Silva\" = lista['João', 'da', 'Silva'] ...\n",
        "#... cada item da lista tem um indexador/posição a partir de 0 Zero ...\n",
        "#... então 'João' 0, 'da' 1, 'Silva' 2\n",
        "#print(separa)\n",
        "\n",
        "print('O nome {} tem {} caracteres.'.format(separa[0], len(separa[0])))\n",
        "# pedimos para imprimir na tela o resultado:\n",
        "# item da lista \"separa\" na posição 0, e quantos caracteres tem esse item, usando a função len(variavel[posição])\n",
        "\n"
      ],
      "metadata": {
        "id": "F9ziIN-UwxD5"
      },
      "execution_count": null,
      "outputs": []
    },
    {
      "cell_type": "code",
      "source": [
        "#ex023: Faça um programa que leia um número de 0 a 9999 e mostre na tela cada um dos dígitos separados.\n",
        "\n",
        "num = int(input('Informe um número de 0 a 9999: '))\n",
        "u = num // 1 % 10\n",
        "d = num // 10 % 10\n",
        "c = num // 100 % 10\n",
        "m = num // 1000 % 10\n",
        "# criando as variaveis de acordo com as casas numéricas unidade, dezena, centena e milares,...\n",
        "# realizado a divisão inteira de acordi com as casas numéricas com resto 10.\n",
        "\n",
        "print('Analisando o número {}'.format(num))\n",
        "print('Unidade {}'.format(u))\n",
        "print('Dezena {}'.format(d))\n",
        "print('Centena {}'.format(c))\n",
        "print('Milhar {}'.format(m))\n",
        "\n",
        "# // = operador de divisão inteira, realiza a divsão entre operandos e a parte decimal do resultado.\n",
        "# % = Módulo, retorna o resta da divisão entre operandos.\n",
        "\n"
      ],
      "metadata": {
        "id": "-k0-TPJuu1HH"
      },
      "execution_count": null,
      "outputs": []
    },
    {
      "cell_type": "code",
      "source": [
        "#ex024: Crie um programa que leia o nome de uma cidade...\n",
        "# diga se ela começa ou não com o nome “SANTO”.\n",
        "\n",
        "cid = str(input('Digite no nome da sua Cidade: ')).strip()\n",
        "print(cid[:5].upper() == 'SANTO')\n",
        "\n",
        "# Explicando o código\n",
        "\n",
        "# a função strip() elimina os espaços no inicio e final da straing...\n",
        "# assim evitando erros na execução do programa, caso o usuário coloque espaços...\n",
        "# no inicio ou final da string.\n",
        "\n",
        "# cid[:5] -- estou dizendo que deve bucar no indexador as posições 0 a 5 a palavra SANTO\n",
        "\n",
        "# a função upper() esta sendo usada para converter para maiúscula qualquer texto digitado,...\n",
        "# para facilitar a validação seguinte.\n",
        "\n",
        "# == 'SANTO' -- estou dizendo se a busca do indexador nas posições 0 a 5 conter a palavra 'SANTO',...\n",
        "# deve retornar True(Verdadeiro), senão False(Falso)"
      ],
      "metadata": {
        "id": "K5enVR-Lu3s_"
      },
      "execution_count": null,
      "outputs": []
    },
    {
      "cell_type": "code",
      "source": [
        "# Operadores Lógicos\n",
        "\n",
        "# and -- Retorna True se todas as condições forem verdadeiras, caso contrário retorna False\n",
        "# and é igual a 'e'\n",
        "\n",
        "print('01 - Usando o operador lógico and')\n",
        "x = int(input('Digite um numero inteiro: '))\n",
        "if x > 5 and x < 10:\n",
        "    print('O número {} é > 5 e < 10.'.format(x))\n",
        "else:\n",
        "    print('O número {} não é > 5 e < 10.'.format(x))\n",
        "#Sem o uso do if/else.\n",
        "print('O número digitado é > 5 e < 10?  {}'.format(x > 5 and x < 10))\n",
        "print()\n",
        "\n",
        "#------------------------------------------------------\n",
        "\n",
        "# or -- Retorna True se uma das condições for verdadeiras, caso contrário retirna False.\n",
        "print('02 - Usando o operador lógido or')\n",
        "k = int(input('Digite um numero inteiro: '))\n",
        "if k < 5 or k > 10:\n",
        "    print('Numero {} é < 5 ou > 10.'.format(k))\n",
        "else:\n",
        "    print('o número {} não é < 5 ou > 10'.format(k))\n",
        "#Sem o uso do if/else.\n",
        "print('O número digitado é < 5 ou > 10?  {}'.format(k < 5 or k > 10))\n",
        "print()\n",
        "\n",
        "#------------------------------------------------------\n",
        "\n",
        "# not -- Interve o resultado: se o resultado da expressão for True, o operador retorna false.\n",
        "\n",
        "print('03 - Usando o operador lógico not')\n",
        "g = int(input('Digite um número inteiro: '))\n",
        "print('Invertendo o resultado. O número {} é < 5 ou > 10? {}'.format(g, not(g < 5 or g > 10)))\n",
        "print()\n",
        "\n"
      ],
      "metadata": {
        "id": "vuUjZQo9R9fr"
      },
      "execution_count": null,
      "outputs": []
    },
    {
      "cell_type": "code",
      "source": [
        "# Operadore de Identidade\n",
        "\n",
        "# Os operadores de identidade servem para coparação de objetos.\n",
        "# Nessa comparação é verificado se eles ocupam a mesma posição na memória...\n",
        "# o que significará que se trata do mesmo objeto. Objeto é o conteudo de uma variável.\n",
        "\n",
        "# is -- Retorna True se as variáveis comparadas forem o mesmo objeto.\n",
        "# is é igual é/está.\n",
        "\n",
        "time_carlos = 'Botafogo'\n",
        "time_luciano = 'Flamengo'\n",
        "time_fabricia = 'Botafogo'\n",
        "\n",
        "if time_carlos is time_luciano:\n",
        "    print('time_calros - time_luciano é o mesmo objeto.')\n",
        "else:\n",
        "    print('time_carlos - time_luciano são objetos diferentes.')\n",
        "print()\n",
        "\n",
        "if time_carlos is time_fabricia:\n",
        "    print('time_carlos - time_fabricia é o mesmo objeto')\n",
        "else:\n",
        "    print('time_carlos - time_fabricia são objetos diferentes.')"
      ],
      "metadata": {
        "id": "iTc2B2MiV2qN"
      },
      "execution_count": null,
      "outputs": []
    },
    {
      "cell_type": "code",
      "source": [
        "# Operadores de associação\n",
        "\n",
        "# Os oepradores de associação são utilizados para verificar se uma sequência contém um objeto.\n",
        "\n",
        "# in -- Retorna True caso o valor seja encontrado na sequência.\n",
        "# in é igual a dentro/em.\n",
        "\n",
        "# not in - Retorna True caso o valor não seja encontrado na sequência.\n",
        "# not in é igual a não está dentro/em.\n",
        "\n",
        "print('Utilizando operadores de associação \"in\" e \"not in\"')\n",
        "frutas = []\n",
        "nome_frutas = str(input('Digite nomes de frutas: ')).strip()\n",
        "while nome_frutas:\n",
        "    frutas.append(nome_frutas.upper())\n",
        "    nome_frutas = str(input('Digite nomes de frutas: ')).strip()\n",
        "    if nome_frutas == '': break\n",
        "print('Frutas cadastradas: {}'.format(frutas))\n",
        "print()\n",
        "fruta1 = str(input('Qual sua 1° fruta preferida? ').upper()).strip()\n",
        "fruta2 = str(input('Qual sua 2° fruta preferida? ').upper()).strip()\n",
        "print()\n",
        "print('A sua 1° fruta preferida está na lista de frutas cadastradas?  {}'.format(fruta1 in frutas))\n",
        "print('A sua 2° fruta preferida está na lista de frutas cadastradas?  {}'.format(fruta2 in frutas))\n",
        "print()\n",
        "print('Algumas de suas frutas preferidas NÃO estão na lista?  {}'.format(fruta1 not in frutas or fruta2 not in frutas))"
      ],
      "metadata": {
        "id": "iDMuNh77tTy9"
      },
      "execution_count": null,
      "outputs": []
    },
    {
      "cell_type": "markdown",
      "source": [
        "#***Biblioteca `datetime`\n",
        "\n",
        "\n",
        "`import datetime`  para importar toda a biblioteca/módulo.\n",
        "\n",
        "`from datetime import date`  para importar apeans uma função da bibioteca/módulo.\n",
        "\n"
      ],
      "metadata": {
        "id": "toDb7x2LrEja"
      }
    },
    {
      "cell_type": "code",
      "source": [
        "import datetime"
      ],
      "metadata": {
        "id": "0GayGPKkuGsw"
      },
      "execution_count": null,
      "outputs": []
    },
    {
      "cell_type": "markdown",
      "source": [
        "# (A) datetime.date\n",
        "\n",
        "\n",
        "Criado a variável `data`\n",
        "\n",
        "Utilizado a função `date()` para atribuir o valor desejado no formato ANO, MÊS, DIA, no caso `2021-07-14`.\n",
        "\n",
        "Imprimimos na tela o valor atribuito na variável `data`.\n",
        "Imprimimos na tela o tipo de dados dessa variável, `type(data)`."
      ],
      "metadata": {
        "id": "yxS-8uckuct_"
      }
    },
    {
      "cell_type": "code",
      "source": [
        "data = datetime.date(2021, 7, 14)\n",
        "print(data)\n",
        "print(type(data))"
      ],
      "metadata": {
        "colab": {
          "base_uri": "https://localhost:8080/"
        },
        "id": "ehURy_2XtMFo",
        "outputId": "95d86807-2e23-4e2d-e8c3-39e1fb2d72bb"
      },
      "execution_count": null,
      "outputs": [
        {
          "output_type": "stream",
          "name": "stdout",
          "text": [
            "2021-07-14\n",
            "<class 'datetime.date'>\n"
          ]
        }
      ]
    },
    {
      "cell_type": "markdown",
      "source": [
        "#ctime\n",
        "\n",
        "Alterar a formatação da data com `ctime()`.\n",
        "\n",
        "Formato do resultado: Dia Semana + Mês + Dia + Hora + Ano\n",
        "\n",
        "Como a HORA não foi especificada na atribuição da variável, no exemplo retornou como ZERO."
      ],
      "metadata": {
        "id": "L_baX70kwy8F"
      }
    },
    {
      "cell_type": "code",
      "source": [
        "print(data.ctime())"
      ],
      "metadata": {
        "colab": {
          "base_uri": "https://localhost:8080/"
        },
        "id": "iZQ4HkNOxOao",
        "outputId": "68c91b38-c29e-4092-e94d-6ec68b3b9d6b"
      },
      "execution_count": null,
      "outputs": [
        {
          "output_type": "stream",
          "name": "stdout",
          "text": [
            "Wed Jul 14 00:00:00 2021\n"
          ]
        }
      ]
    },
    {
      "cell_type": "markdown",
      "source": [
        "#Acessando uma informação\n",
        "\n",
        "Criamos as variáveis `dia`, `mes`, `ano`. Atribuimos os valores a partir da variável `data.função`.\n",
        "\n",
        "\n",
        "`dia = data.day` com a função `day` pegamos apenas a informação do DIA da variável `data` e atribuimos na variável `dia`.\n",
        "\n",
        "`mes = data.month` com a função `month` pegamos apenas a informação do MÊS da variável `data` e atribuimos na variável `mes`.\n",
        "\n",
        "`ano = data.year` com a função `year` pegamos apenas a informação do ANO da variável `data` e atribuimos na variável `ano`.\n",
        "\n",
        "Imprimimos no formato desejado, exemplo: dia, mes, ano."
      ],
      "metadata": {
        "id": "KEZIC2X9yOg_"
      }
    },
    {
      "cell_type": "code",
      "source": [
        "dia = data.day\n",
        "mes = data.month\n",
        "ano = data.year\n",
        "\n",
        "print(dia, mes, ano)"
      ],
      "metadata": {
        "colab": {
          "base_uri": "https://localhost:8080/"
        },
        "id": "77VTtJVDyaA2",
        "outputId": "f3ce8c86-567a-402c-a8a6-43534a08837a"
      },
      "execution_count": null,
      "outputs": [
        {
          "output_type": "stream",
          "name": "stdout",
          "text": [
            "14 7 2021\n"
          ]
        }
      ]
    },
    {
      "cell_type": "markdown",
      "source": [
        "#Alterando uma informação\n",
        "\n",
        "\n",
        "Vamos utilizar a função/médoto `replace()` para alterar o valor de um atributo da variável `data`."
      ],
      "metadata": {
        "id": "0rANAclL1fL0"
      }
    },
    {
      "cell_type": "code",
      "source": [
        "nova_data = data.replace(day=10, month=1, year=1985) # alteramos o atributo day para 10, month para 1, year para 1985.\n",
        "print(data)\n",
        "print(nova_data)\n"
      ],
      "metadata": {
        "colab": {
          "base_uri": "https://localhost:8080/"
        },
        "id": "qcjwzuwo5Cdu",
        "outputId": "308f2230-9f01-4a8a-a609-834b4b5c4e7a"
      },
      "execution_count": null,
      "outputs": [
        {
          "output_type": "stream",
          "name": "stdout",
          "text": [
            "2021-07-14\n",
            "1985-01-10\n"
          ]
        }
      ]
    },
    {
      "cell_type": "markdown",
      "source": [
        "#Pegando o dia de HOJE\n",
        "\n",
        "`datetime.date.today()` dentro da biblioteca `datetime` estamos usando as funções/métodos `date.today()` para pegar a data corrente da máquina."
      ],
      "metadata": {
        "id": "7iKGAYdB6NbN"
      }
    },
    {
      "cell_type": "code",
      "source": [
        "hoje = datetime.date.today()\n",
        "print(hoje)"
      ],
      "metadata": {
        "colab": {
          "base_uri": "https://localhost:8080/"
        },
        "id": "JImZmMPE6u6p",
        "outputId": "03a6c9a5-ade9-445e-fe84-eec0b698ef3f"
      },
      "execution_count": null,
      "outputs": [
        {
          "output_type": "stream",
          "name": "stdout",
          "text": [
            "2022-10-10\n"
          ]
        }
      ]
    },
    {
      "cell_type": "markdown",
      "source": [
        "#Fazendo operações com datas\n",
        "\n",
        "No exemplo abaixo vemos a diferença entre as datas da variável `data` e `hoje`.\n",
        "\n",
        "Imprimimos na tela o resultado e também o `type()` e/ou `class` da variável `delta`."
      ],
      "metadata": {
        "id": "G35aThf_87zO"
      }
    },
    {
      "cell_type": "code",
      "source": [
        "delta = hoje - data\n",
        "print(delta)\n",
        "print(type(delta))\n"
      ],
      "metadata": {
        "colab": {
          "base_uri": "https://localhost:8080/"
        },
        "id": "JBj2qS-o95FO",
        "outputId": "926d8ea5-38e3-4340-e5fb-ddf6f18dc5eb"
      },
      "execution_count": null,
      "outputs": [
        {
          "output_type": "stream",
          "name": "stdout",
          "text": [
            "453 days, 0:00:00\n",
            "<class 'datetime.timedelta'>\n"
          ]
        }
      ]
    },
    {
      "cell_type": "markdown",
      "source": [
        "criamos a variável `data_futuro` com a atribuição dos valores da soma das variáveis `hoje` + `delta`."
      ],
      "metadata": {
        "id": "NXZ9_CQj_Gq7"
      }
    },
    {
      "cell_type": "code",
      "source": [
        "data_futuro = hoje + delta\n",
        "print(data_futuro)"
      ],
      "metadata": {
        "colab": {
          "base_uri": "https://localhost:8080/"
        },
        "id": "ukV1TRoO-Py0",
        "outputId": "445da61e-79c6-48f1-f0fc-3373e0ade3f6"
      },
      "execution_count": null,
      "outputs": [
        {
          "output_type": "stream",
          "name": "stdout",
          "text": [
            "2024-01-06\n"
          ]
        }
      ]
    },
    {
      "cell_type": "markdown",
      "source": [
        "# (B) datetime.time\n",
        "\n",
        "Traballhando com o tempo, com a função `time()` da biblioteca `datetime`.\n",
        "\n",
        "Criado a variável `horario`, atribuido o valor através de `datetime.time(hour, minute, second)`.\n",
        "\n",
        "Impresso na tela o valor atribuido na variável `horario`."
      ],
      "metadata": {
        "id": "ASq4c3bEAH1T"
      }
    },
    {
      "cell_type": "code",
      "source": [
        "horario = datetime.time(12, 45, 59)\n",
        "print(horario)"
      ],
      "metadata": {
        "colab": {
          "base_uri": "https://localhost:8080/"
        },
        "id": "rAao3PrOAQ77",
        "outputId": "ef8eb19d-6ccf-4cc7-ad6f-210655f8efc1"
      },
      "execution_count": null,
      "outputs": [
        {
          "output_type": "stream",
          "name": "stdout",
          "text": [
            "12:45:59\n"
          ]
        }
      ]
    },
    {
      "cell_type": "markdown",
      "source": [
        "#Acessando a informação\n",
        "\n",
        "Criamos as variáveis `hora`, `minuto`, `segundo`. Atribuimos os valores a partir da variável `horario.função.`\n",
        "\n",
        "`hora = horario.hour`  com a função `hour` pegamos apenas a HORA da variável `horario` e atribuimos como valor da variável `hora`.\n",
        "\n",
        "`minuto = horario.minute` com a função `minute` pegamos apenas o MINUTO da variável `horario` e atribuimos como valor da variável `hora`.\n",
        "\n",
        "`segundo = horario.second ` com a função `second` pegamos apenas o SEGUNDO da variável `horario` e atribuimos como valor da variável `segundo`."
      ],
      "metadata": {
        "id": "JWIKocFVXHxn"
      }
    },
    {
      "cell_type": "code",
      "source": [
        "hora = horario.hour\n",
        "minuto = horario.minute\n",
        "segundo = horario.second\n",
        "print('{}:{}:{}'.format(hora, minuto, segundo))"
      ],
      "metadata": {
        "colab": {
          "base_uri": "https://localhost:8080/"
        },
        "id": "r1t_vXrMbYp3",
        "outputId": "449fba58-79d2-4e1b-c2b2-062ecd62087a"
      },
      "execution_count": null,
      "outputs": [
        {
          "output_type": "stream",
          "name": "stdout",
          "text": [
            "12:45:59\n"
          ]
        }
      ]
    },
    {
      "cell_type": "markdown",
      "source": [
        "#datetime.datetime\n",
        "\n",
        "Essa função permite trablhar com hora e tempo.\n",
        "\n",
        "Criamos a variável `datatempo` e vamos atribuir o valor através da função `datetime.datetime(year, month, day, hour, minute, second)`"
      ],
      "metadata": {
        "id": "35xwyktPb6VZ"
      }
    },
    {
      "cell_type": "code",
      "source": [
        "datatempo = datetime.datetime(2021,4,14,7,18,19)\n",
        "print(datatempo)"
      ],
      "metadata": {
        "colab": {
          "base_uri": "https://localhost:8080/"
        },
        "id": "-H9RrK9icD2-",
        "outputId": "16d93408-39fa-4307-eefe-20a6f0e1ed00"
      },
      "execution_count": null,
      "outputs": [
        {
          "output_type": "stream",
          "name": "stdout",
          "text": [
            "2021-04-14 07:18:19\n"
          ]
        }
      ]
    },
    {
      "cell_type": "markdown",
      "source": [
        "#datetime.datetime.now()\n",
        "\n",
        "Essa função permite pegar o horário atual da máquina.\n",
        "\n",
        "Criado a variável `DTagora` e atribuido o valor através da função `datetime.datetime.now()`.\n",
        "\n",
        "Impresso na tela o resultado, a cada execução será pego o horário atual da máquina."
      ],
      "metadata": {
        "id": "ecgyrjiXdsXJ"
      }
    },
    {
      "cell_type": "code",
      "source": [
        "DTagora = datetime.datetime.now()\n",
        "print(DTagora)"
      ],
      "metadata": {
        "colab": {
          "base_uri": "https://localhost:8080/",
          "height": 295
        },
        "id": "miqHyRQQd7Vz",
        "outputId": "5c05c58d-a4a1-42f9-afe0-c641d5edecc3"
      },
      "execution_count": null,
      "outputs": [
        {
          "output_type": "error",
          "ename": "NameError",
          "evalue": "ignored",
          "traceback": [
            "\u001b[0;31m---------------------------------------------------------------------------\u001b[0m",
            "\u001b[0;31mNameError\u001b[0m                                 Traceback (most recent call last)",
            "\u001b[0;32m<ipython-input-2-93ddad970d40>\u001b[0m in \u001b[0;36m<module>\u001b[0;34m\u001b[0m\n\u001b[0;32m----> 1\u001b[0;31m \u001b[0mDTagora\u001b[0m \u001b[0;34m=\u001b[0m \u001b[0mdatetime\u001b[0m\u001b[0;34m.\u001b[0m\u001b[0mdatetime\u001b[0m\u001b[0;34m.\u001b[0m\u001b[0mnow\u001b[0m\u001b[0;34m(\u001b[0m\u001b[0;34m)\u001b[0m\u001b[0;34m\u001b[0m\u001b[0;34m\u001b[0m\u001b[0m\n\u001b[0m\u001b[1;32m      2\u001b[0m \u001b[0mprint\u001b[0m\u001b[0;34m(\u001b[0m\u001b[0mDTagora\u001b[0m\u001b[0;34m)\u001b[0m\u001b[0;34m\u001b[0m\u001b[0;34m\u001b[0m\u001b[0m\n",
            "\u001b[0;31mNameError\u001b[0m: name 'datetime' is not defined"
          ]
        }
      ]
    },
    {
      "cell_type": "markdown",
      "source": [
        "#Alterar o texto de exibição da data do formato \"datetime\" para uma string -- strftime()\n",
        "\n"
      ],
      "metadata": {
        "id": "IrwPYmcogv0w"
      }
    },
    {
      "cell_type": "code",
      "source": [
        "DTagora_string = DTagora.strftime('%d/%m/%Y %H:%M:%S')\n",
        "print(DTagora_string)"
      ],
      "metadata": {
        "id": "bqKZjM6LhONO"
      },
      "execution_count": null,
      "outputs": []
    },
    {
      "cell_type": "code",
      "source": [
        "# Concatenação\n",
        "\n",
        "\n",
        "print('#' * 10)\n",
        "print('AB' + 'C')\n",
        "print('A' * 3)\n",
        "print('X' + '-' * 10 + 'X')"
      ],
      "metadata": {
        "colab": {
          "base_uri": "https://localhost:8080/"
        },
        "id": "rab6pKuLnfay",
        "outputId": "6d2238e0-730a-4a68-d4c5-619c2fe45bf2"
      },
      "execution_count": null,
      "outputs": [
        {
          "output_type": "stream",
          "name": "stdout",
          "text": [
            "##########\n",
            "ABC\n",
            "AAA\n",
            "X----------X\n"
          ]
        }
      ]
    },
    {
      "cell_type": "code",
      "source": [
        "# Composição com marcadores\n",
        "\n",
        "nome = str(input('Digite seu nome:  '))\n",
        "idade = int(input('Digite sua idade:  '))\n",
        "salario = float(input('Digite seu salário:'))\n",
        "print()\n",
        "print('%s tem %d e ganha %f' %(nome, idade, salario))"
      ],
      "metadata": {
        "colab": {
          "base_uri": "https://localhost:8080/"
        },
        "id": "Q7p8Y9aLpjK3",
        "outputId": "47d3c20e-7c98-4dd0-9566-cc635e1f6654"
      },
      "execution_count": null,
      "outputs": [
        {
          "output_type": "stream",
          "name": "stdout",
          "text": [
            "Digite seu nome:  jonas\n",
            "Digite sua idade:  37\n",
            "Digite seu salário:1.000\n",
            "\n",
            "jonas tem 37 e ganha 1.000000\n"
          ]
        }
      ]
    },
    {
      "cell_type": "code",
      "source": [
        "# Composição com marcadores\n",
        "\n",
        "idade2 = int(input('Digite sua idade: '))\n",
        "print('[%d] Apenas pegou o valor da variável' %idade2)\n",
        "print('[%03d]' %idade2)\n",
        "print('[%3d]' %idade2)\n",
        "print('[%-3d]' %idade2)"
      ],
      "metadata": {
        "colab": {
          "base_uri": "https://localhost:8080/"
        },
        "id": "_pbSpsAKt8Xe",
        "outputId": "9af7ef4a-fa23-4a66-8714-6b9bc71489c2"
      },
      "execution_count": null,
      "outputs": [
        {
          "output_type": "stream",
          "name": "stdout",
          "text": [
            "Digite sua idade: 22\n",
            "[22]\n",
            "[022]\n",
            "[ 22]\n",
            "[22 ]\n"
          ]
        }
      ]
    },
    {
      "cell_type": "markdown",
      "source": [
        "#ex033\n",
        "\n",
        "Faça um programa que leia três números e mostre qual é o maior e qual é o menor."
      ],
      "metadata": {
        "id": "1RGFYp-hRbsu"
      }
    },
    {
      "cell_type": "code",
      "source": [
        "#ex033\n",
        "\n",
        "a = int(input('Digite o primeiro valor:  '))\n",
        "b = int(input('Digite o segundo valor:  '))\n",
        "c = int(input('Digite o terceiro valor:  '))\n",
        "# Verificando quem é menor\n",
        "menor = a\n",
        "if b < a and b < c:\n",
        "  menor = b\n",
        "if c < a and c < b:\n",
        "  menor = c\n",
        "# Verificando quem é maior\n",
        "maior = a\n",
        "if b > a and b > c:\n",
        "  maior = b\n",
        "if c > a and c > b:\n",
        "  maior = c\n",
        "print()\n",
        "print('O menor valor digitado foi {}.'.format(menor))\n",
        "print()\n",
        "print('O maior valor digitado foi {}.'.format(maior))\n"
      ],
      "metadata": {
        "id": "h5rscEwORmKq"
      },
      "execution_count": null,
      "outputs": []
    },
    {
      "cell_type": "markdown",
      "source": [
        "#ex034\n",
        "\n",
        "Escreva um programa que pergunte o salário de um funcionário e calcule o valor do seu aumento. Para salários superiores a R$1250,00, calcule um aumento de 10%. Para os inferiores ou iguais, o aumento é de 15%.\n"
      ],
      "metadata": {
        "id": "r1MoLIAhW8CN"
      }
    },
    {
      "cell_type": "code",
      "source": [
        "#ex034 A) Meu jeito\n",
        "\n",
        "salario = float(input('Digite o salário do funcionário:  '))\n",
        "if salario > 1250:\n",
        "  ajuste = salario / 100 * 10 + salario\n",
        "  print('Parabéns você recebeu 10% de ajuste salarial, passou de R${:.2f} para R${:.2f}.'.format(salario, ajuste))\n",
        "if salario <= 1250:\n",
        "  ajuste = salario / 100 * 15 + salario\n",
        "  print('Parabéns você recebeu 15% de ajuste salarial, passou de R${:.2f} para R${:.2f}.'.format(salario, ajuste))"
      ],
      "metadata": {
        "colab": {
          "base_uri": "https://localhost:8080/"
        },
        "id": "N-nRb7TMXEJ5",
        "outputId": "c1809dd4-307a-4ae9-977d-6f0eb4294c03"
      },
      "execution_count": null,
      "outputs": [
        {
          "output_type": "stream",
          "name": "stdout",
          "text": [
            "Digite o salário do funcionário:  9000\n",
            "Parabéns você recebeu 10% de ajuste salarial, passou de R$9000.00 para R$9900.00.\n"
          ]
        }
      ]
    },
    {
      "cell_type": "code",
      "source": [
        "#ex034 B) Jeito do professor\n",
        "\n",
        "salario = float(input('Digite o salário do funcionário:  '))\n",
        "if salario <= 1250:\n",
        "  novo = salario + (salario * 15 / 100)\n",
        "else:\n",
        "  novo = salario + (salario * 10/100)\n",
        "print('Quem ganhava R${:.2f} passa a ganhar R${:.2f}.'.format(salario, novo))"
      ],
      "metadata": {
        "colab": {
          "base_uri": "https://localhost:8080/"
        },
        "id": "vWN7w94IanQj",
        "outputId": "4519ecc0-5d8e-4ccf-d58a-50a5173cdffd"
      },
      "execution_count": null,
      "outputs": [
        {
          "output_type": "stream",
          "name": "stdout",
          "text": [
            "Digite o salário do funcionário:  1000\n",
            "Quem ganhava R$1000.00 passa a ganhar R$1150.00.\n"
          ]
        }
      ]
    },
    {
      "cell_type": "markdown",
      "source": [
        "#ex035\n",
        "\n",
        "Desenvolva um programa que leia o comprimento de três retas e diga ao usuário se elas podem ou não formar um triângulo."
      ],
      "metadata": {
        "id": "vGcA9rDqcLZL"
      }
    },
    {
      "cell_type": "code",
      "source": [
        "#ex035\n",
        "\n",
        "print('-=' * 20)\n",
        "print('Analisador de Triângulos')\n",
        "print('-=' * 20)\n",
        "r1 = float(input('Digite o valor da reta 01:  '))\n",
        "r2 = float(input('Digite o valor da reta 02:  '))\n",
        "r3 = float(input('Digite o valor da reta 03:  '))\n",
        "if r1 < r2 + r3 and r2 < r1 + r3 and r3 < r1 + r2:\n",
        "  print('As retas acima PODEM formar um triângulo.')\n",
        "else:\n",
        "  print('As retas acima NÃO PODEM formar um triângulo')"
      ],
      "metadata": {
        "colab": {
          "base_uri": "https://localhost:8080/"
        },
        "id": "qI3J1HG8cQpl",
        "outputId": "9e23ea85-b277-45c0-de1c-a8b67f007115"
      },
      "execution_count": null,
      "outputs": [
        {
          "output_type": "stream",
          "name": "stdout",
          "text": [
            "-=-=-=-=-=-=-=-=-=-=-=-=-=-=-=-=-=-=-=-=\n",
            "Analisador de Triângulos\n",
            "-=-=-=-=-=-=-=-=-=-=-=-=-=-=-=-=-=-=-=-=\n",
            "Digite o valor da reta 01:  9\n",
            "Digite o valor da reta 02:  7\n",
            "Digite o valor da reta 03:  6\n",
            "As retas acima PODEM formar um triângulo.\n"
          ]
        }
      ]
    },
    {
      "cell_type": "markdown",
      "source": [
        "#Cores no Terminal\n",
        "\n",
        "Sintaxe para cores: \n",
        "![sintaxe cores python.JPG](data:image/jpeg;base64,/9j/4AAQSkZJRgABAQEAYABgAAD/4REERXhpZgAATU0AKgAAAAgABAE7AAIAAAAUAAAISodpAAQAAAABAAAIXpydAAEAAAAmAAAQ1uocAAcAAAgMAAAAPgAAAAAc6gAAAAgAAAAAAAAAAAAAAAAAAAAAAAAAAAAAAAAAAAAAAAAAAAAAAAAAAAAAAAAAAAAAAAAAAAAAAAAAAAAAAAAAAAAAAAAAAAAAAAAAAAAAAAAAAAAAAAAAAAAAAAAAAAAAAAAAAAAAAAAAAAAAAAAAAAAAAAAAAAAAAAAAAAAAAAAAAAAAAAAAAAAAAAAAAAAAAAAAAAAAAAAAAAAAAAAAAAAAAAAAAAAAAAAAAAAAAAAAAAAAAAAAAAAAAAAAAAAAAAAAAAAAAAAAAAAAAAAAAAAAAAAAAAAAAAAAAAAAAAAAAAAAAAAAAAAAAAAAAAAAAAAAAAAAAAAAAAAAAAAAAAAAAAAAAAAAAAAAAAAAAAAAAAAAAAAAAAAAAAAAAAAAAAAAAAAAAAAAAAAAAAAAAAAAAAAAAAAAAAAAAAAAAAAAAAAAAAAAAAAAAAAAAAAAAAAAAAAAAAAAAAAAAAAAAAAAAAAAAAAAAAAAAAAAAAAAAAAAAAAAAAAAAAAAAAAAAAAAAAAAAAAAAAAAAAAAAAAAAAAAAAAAAAAAAAAAAAAAAAAAAAAAAAAAAAAAAAAAAAAAAAAAAAAAAAAAAAAAAAAAAAAAAAAAAAAAAAAAAAAAAAAAAAAAAAAAAAAAAAAAAAAAAAAAAAAAAAAAAAAAAAAAAAAAAAAAAAAAAAAAAAAAAAAAAAAAAAAAAAAAAAAAAAAAAAAAAAAAAAAAAAAAAAAAAAAAAAAAAAAAAAAAAAAAAAAAAAAAAAAAAAAAAAAAAAAAAAAAAAAAAAAAAAAAAAAAAAAAAAAAAAAAAAAAAAAAAAAAAAAAAAAAAAAAAAAAAAAAAAAAAAAAAAAAAAAAAAAAAAAAAAAAAAAAAAAAAAAAAAAAAAAAAAAAAAAAAAAAAAAAAAAAAAAAAAAAAAAAAAAAAAAAAAAAAAAAAAAAAAAAAAAAAAAAAAAAAAAAAAAAAAAAAAAAAAAAAAAAAAAAAAAAAAAAAAAAAAAAAAAAAAAAAAAAAAAAAAAAAAAAAAAAAAAAAAAAAAAAAAAAAAAAAAAAAAAAAAAAAAAAAAAAAAAAAAAAAAAAAAAAAAAAAAAAAAAAAAAAAAAAAAAAAAAAAAAAAAAAAAAAAAAAAAAAAAAAAAAAAAAAAAAAAAAAAAAAAAAAAAAAAAAAAAAAAAAAAAAAAAAAAAAAAAAAAAAAAAAAAAAAAAAAAAAAAAAAAAAAAAAAAAAAAAAAAAAAAAAAAAAAAAAAAAAAAAAAAAAAAAAAAAAAAAAAAAAAAAAAAAAAAAAAAAAAAAAAAAAAAAAAAAAAAAAAAAAAAAAAAAAAAAAAAAAAAAAAAAAAAAAAAAAAAAAAAAAAAAAAAAAAAAAAAAAAAAAAAAAAAAAAAAAAAAAAAAAAAAAAAAAAAAAAAAAAAAAAAAAAAAAAAAAAAAAAAAAAAAAAAAAAAAAAAAAAAAAAAAAAAAAAAAAAAAAAAAAAAAAAAAAAAAAAAAAAAAAAAAAAAAAAAAAAAAAAAAAAAAAAAAAAAAAAAAAAAAAAAAAAAAAAAAAAAAAAAAAAAAAAAAAAAAAAAAAAAAAAAAAAAAAAAAAAAAAAAAAAAAAAAAAAAAAAAAAAAAAAAAAAAAAAAAAAAAAAAAAAAAAAAAAAAAAAAAAAAAAAAAAAAAAAAAAAAAAAAAAAAAAAAAAAAAAAAAAAAAAAAAAAAAAAAAAAAAAAAAAAAAAAAAAAAAAAAAAAAAAAAAAAAAAAAAAAAAAAAAAAAAAAAAAAAAAAAAAAAAAAAAAAAAAAAAAAAAAAAAAAAAAAAAAAAAAAAAAAAAAAAAAAAAAAAAAAAAAAAAAAAAAAAAAAAAAAAAAAAAAAAAAAAAAAAAAAAAAAAAAAAAAAAAAAAAAAAAAAAAAAAAAAAAAAAAAAAAAAAAAAAAAAAAAAAAAAAAAAAAAAAAAAAAAAAAAAAAAAAAAAAAAAAAAAAAAAAAAAAAAAAAAAAAAAAAAAAAAAAAAAAAAAAAAAAAAAAAAAAAAAAAAAAAAAAAAAAAAAAAAAAAAAAAAAAAAAAAAAAAAAAAAAAAAAAAAAAAAAAAAAAAAAAAAAAAAAAAAAAAAAAAAAAAAAAAAAAAAAAAAAAAAAAAAAAAAAAAAAAAAAAAAAAAAAAAAAAAAAAAAAAAAAAAAAAAAAAAAAAAAAAAAAAAAAAAAAAAAAAAAAAAAAAAAAAAAAAAAAAAAAAAAAAAAAAAAAAAAAAAAAAAAAAAAAAAAAAAAAAAAAAAAAAAAAAAAAAAAAAAAAAAAAAAAAAAAAAAAAAAAAAAAAAAAAAAAAAAAAAAAAAAAAAAAAAAAAAAAAAAAAAAAAAAAAAAAAAAAAAAAAAAAAAAAAAAAAAAAAAAAAAAAAAAAAAAAAAAAAAAAAAAAAAAAAAAAAAAAAAAAAAAAAAAAAAAAAAAAAAAAAAAAAAAAAAAAAAAAAAAAAAAAAAAAAAAAAAAAAAAAAAAAAAAAAAAAAAAAAAAAAAAAAAAAAAAAAAAAAAAAAAAAAAAAAAAAAAAAAAAAAAAAAAAAAAAAAAAAAAAAAAAAAAAAAAAAAAAAAAAAAAAAAAAAAAAAAAAAAAAAAAAAAAAAAAAAAAAAAAAAAAAAAAAAAAAAAAAAAAAAAAAAAAAAAAAAAAAAAAAAAAAAAAAAAAAAAAAAAAAAAAAAAAAAAAAAAAAAAAAAAAAAAAAAAAAAAAAAAAAAAAAAAAAAAAAAAAAAAAAAAAAAAAAAAAEZhbcOtbGlhIEFwb2xpbmFyaW8AAAWQAwACAAAAFAAAEKyQBAACAAAAFAAAEMCSkQACAAAAAzg5AACSkgACAAAAAzg5AADqHAAHAAAIDAAACKAAAAAAHOoAAAAIAAAAAAAAAAAAAAAAAAAAAAAAAAAAAAAAAAAAAAAAAAAAAAAAAAAAAAAAAAAAAAAAAAAAAAAAAAAAAAAAAAAAAAAAAAAAAAAAAAAAAAAAAAAAAAAAAAAAAAAAAAAAAAAAAAAAAAAAAAAAAAAAAAAAAAAAAAAAAAAAAAAAAAAAAAAAAAAAAAAAAAAAAAAAAAAAAAAAAAAAAAAAAAAAAAAAAAAAAAAAAAAAAAAAAAAAAAAAAAAAAAAAAAAAAAAAAAAAAAAAAAAAAAAAAAAAAAAAAAAAAAAAAAAAAAAAAAAAAAAAAAAAAAAAAAAAAAAAAAAAAAAAAAAAAAAAAAAAAAAAAAAAAAAAAAAAAAAAAAAAAAAAAAAAAAAAAAAAAAAAAAAAAAAAAAAAAAAAAAAAAAAAAAAAAAAAAAAAAAAAAAAAAAAAAAAAAAAAAAAAAAAAAAAAAAAAAAAAAAAAAAAAAAAAAAAAAAAAAAAAAAAAAAAAAAAAAAAAAAAAAAAAAAAAAAAAAAAAAAAAAAAAAAAAAAAAAAAAAAAAAAAAAAAAAAAAAAAAAAAAAAAAAAAAAAAAAAAAAAAAAAAAAAAAAAAAAAAAAAAAAAAAAAAAAAAAAAAAAAAAAAAAAAAAAAAAAAAAAAAAAAAAAAAAAAAAAAAAAAAAAAAAAAAAAAAAAAAAAAAAAAAAAAAAAAAAAAAAAAAAAAAAAAAAAAAAAAAAAAAAAAAAAAAAAAAAAAAAAAAAAAAAAAAAAAAAAAAAAAAAAAAAAAAAAAAAAAAAAAAAAAAAAAAAAAAAAAAAAAAAAAAAAAAAAAAAAAAAAAAAAAAAAAAAAAAAAAAAAAAAAAAAAAAAAAAAAAAAAAAAAAAAAAAAAAAAAAAAAAAAAAAAAAAAAAAAAAAAAAAAAAAAAAAAAAAAAAAAAAAAAAAAAAAAAAAAAAAAAAAAAAAAAAAAAAAAAAAAAAAAAAAAAAAAAAAAAAAAAAAAAAAAAAAAAAAAAAAAAAAAAAAAAAAAAAAAAAAAAAAAAAAAAAAAAAAAAAAAAAAAAAAAAAAAAAAAAAAAAAAAAAAAAAAAAAAAAAAAAAAAAAAAAAAAAAAAAAAAAAAAAAAAAAAAAAAAAAAAAAAAAAAAAAAAAAAAAAAAAAAAAAAAAAAAAAAAAAAAAAAAAAAAAAAAAAAAAAAAAAAAAAAAAAAAAAAAAAAAAAAAAAAAAAAAAAAAAAAAAAAAAAAAAAAAAAAAAAAAAAAAAAAAAAAAAAAAAAAAAAAAAAAAAAAAAAAAAAAAAAAAAAAAAAAAAAAAAAAAAAAAAAAAAAAAAAAAAAAAAAAAAAAAAAAAAAAAAAAAAAAAAAAAAAAAAAAAAAAAAAAAAAAAAAAAAAAAAAAAAAAAAAAAAAAAAAAAAAAAAAAAAAAAAAAAAAAAAAAAAAAAAAAAAAAAAAAAAAAAAAAAAAAAAAAAAAAAAAAAAAAAAAAAAAAAAAAAAAAAAAAAAAAAAAAAAAAAAAAAAAAAAAAAAAAAAAAAAAAAAAAAAAAAAAAAAAAAAAAAAAAAAAAAAAAAAAAAAAAAAAAAAAAAAAAAAAAAAAAAAAAAAAAAAAAAAAAAAAAAAAAAAAAAAAAAAAAAAAAAAAAAAAAAAAAAAAAAAAAAAAAAAAAAAAAAAAAAAAAAAAAAAAAAAAAAAAAAAAAAAAAAAAAAAAAAAAAAAAAAAAAAAAAAAAAAAAAAAAAAAAAAAAAAAAAAAAAAAAAAAAAAAAAAAAAAAAAAAAAAAAAAAAAAAAAAAAAAAAAAAAAAAAAAAAAAAAAAAAAAAAAAAAAAAAAAAAAAAAAAAAAAAAAAAAAAAAAAAAAAAAAAAAAAAAAAAAAAAAAAAAAAAAAAAAAAAAAAAAAAAAAAAAAAAAAAAAAAAAAAAAAAAAAAAAAAAAAAAAAAAAAAAAAAAAAAAAAAAAAAAAAAAAAAAAAAAAAAAAAAAAAAAAAAAAAAAAAAAAAAAAAAAAAAAAAAAAAAAAAAAAAAAAAAAAAAAAAAAAAAAAAAAAAAAAAAAAAAAAAAAAAAAAAAAAAAAAAAAAAAAAAAAAAAAAAAAAAAAAAAAAAAAAAAAAAAAAAAAAAAAAAAAAAAAAAAAAAAAAAAAAAAAAAAAAAAAAAAAAAAAAAAAAAAAAAAAAAAAAAAAAAAAAAAAAAAAAAAAAAAAAAAAAAAAAAAAAAAAAAAAAAAAAAAAAAAAAAAAAAAAAAAAAAAAAAAAAAAAAAAAAAAAAAAAAAAAAAAAAAAAAAAAAAAAAAAAAAAAAAAAAAAAAAAAAAAAAAAAAAAAAAAAAAAAAAAAAAAAAAAAAAAAAAAAAAAAAAAAAAAAAAAAAAAAAAAAAAAAAAAAAAAAAAAAAAAAAAAAAAAAAAAAAAAAAAAAAAAAAAAAAAAAAAAAAAAAAAAAAAAAAAAAAAAAAAAAAAAAAAAAAAAAAAAAAAAAAAAAAAAAAAAAAAAAAAAAAAAAAAAAAAAAAAAAAAAAAAAAAAAAAAAAAAAAAAAAAAAAAAAAAAAAAAAAAAAAAAAAAAAAAAAAAAAAAAAAAAAAAAAAAAAAAAAAAAAAAAAAAAAAAAAAAAAAAAAAAAAAAAAAAAAAAAAAAAAAAAAAAAAAAAAAAAAAAAAAAAAAAAAAAAAAAAAAAAAAAAAAAAAAAAAAAAAAAAAAAAAAAAAAAAAAAAAAAAAAAAAAAAAAAAAAAAAAAAAAAAAAAAAAAAAAAAAAAAAAAAAAAAAAAAyMDIyOjEwOjE0IDE0OjMwOjM4ADIwMjI6MTA6MTQgMTQ6MzA6MzgAAABGAGEAbQDtAGwAaQBhACAAQQBwAG8AbABpAG4AYQByAGkAbwAAAP/hCyZodHRwOi8vbnMuYWRvYmUuY29tL3hhcC8xLjAvADw/eHBhY2tldCBiZWdpbj0n77u/JyBpZD0nVzVNME1wQ2VoaUh6cmVTek5UY3prYzlkJz8+DQo8eDp4bXBtZXRhIHhtbG5zOng9ImFkb2JlOm5zOm1ldGEvIj48cmRmOlJERiB4bWxuczpyZGY9Imh0dHA6Ly93d3cudzMub3JnLzE5OTkvMDIvMjItcmRmLXN5bnRheC1ucyMiPjxyZGY6RGVzY3JpcHRpb24gcmRmOmFib3V0PSJ1dWlkOmZhZjViZGQ1LWJhM2QtMTFkYS1hZDMxLWQzM2Q3NTE4MmYxYiIgeG1sbnM6ZGM9Imh0dHA6Ly9wdXJsLm9yZy9kYy9lbGVtZW50cy8xLjEvIi8+PHJkZjpEZXNjcmlwdGlvbiByZGY6YWJvdXQ9InV1aWQ6ZmFmNWJkZDUtYmEzZC0xMWRhLWFkMzEtZDMzZDc1MTgyZjFiIiB4bWxuczp4bXA9Imh0dHA6Ly9ucy5hZG9iZS5jb20veGFwLzEuMC8iPjx4bXA6Q3JlYXRlRGF0ZT4yMDIyLTEwLTE0VDE0OjMwOjM4Ljg4OTwveG1wOkNyZWF0ZURhdGU+PC9yZGY6RGVzY3JpcHRpb24+PHJkZjpEZXNjcmlwdGlvbiByZGY6YWJvdXQ9InV1aWQ6ZmFmNWJkZDUtYmEzZC0xMWRhLWFkMzEtZDMzZDc1MTgyZjFiIiB4bWxuczpkYz0iaHR0cDovL3B1cmwub3JnL2RjL2VsZW1lbnRzLzEuMS8iPjxkYzpjcmVhdG9yPjxyZGY6U2VxIHhtbG5zOnJkZj0iaHR0cDovL3d3dy53My5vcmcvMTk5OS8wMi8yMi1yZGYtc3ludGF4LW5zIyI+PHJkZjpsaT5GYW3DrWxpYSBBcG9saW5hcmlvPC9yZGY6bGk+PC9yZGY6U2VxPg0KCQkJPC9kYzpjcmVhdG9yPjwvcmRmOkRlc2NyaXB0aW9uPjwvcmRmOlJERj48L3g6eG1wbWV0YT4NCiAgICAgICAgICAgICAgICAgICAgICAgICAgICAgICAgICAgICAgICAgICAgICAgICAgICAgICAgICAgICAgICAgICAgICAgICAgICAgICAgICAgICAgICAgICAgICAgICAgICAKICAgICAgICAgICAgICAgICAgICAgICAgICAgICAgICAgICAgICAgICAgICAgICAgICAgICAgICAgICAgICAgICAgICAgICAgICAgICAgICAgICAgICAgICAgICAgICAgICAgIAogICAgICAgICAgICAgICAgICAgICAgICAgICAgICAgICAgICAgICAgICAgICAgICAgICAgICAgICAgICAgICAgICAgICAgICAgICAgICAgICAgICAgICAgICAgICAgICAgICAgCiAgICAgICAgICAgICAgICAgICAgICAgICAgICAgICAgICAgICAgICAgICAgICAgICAgICAgICAgICAgICAgICAgICAgICAgICAgICAgICAgICAgICAgICAgICAgICAgICAgICAKICAgICAgICAgICAgICAgICAgICAgICAgICAgICAgICAgICAgICAgICAgICAgICAgICAgICAgICAgICAgICAgICAgICAgICAgICAgICAgICAgICAgICAgICAgICAgICAgICAgIAogICAgICAgICAgICAgICAgICAgICAgICAgICAgICAgICAgICAgICAgICAgICAgICAgICAgICAgICAgICAgICAgICAgICAgICAgICAgICAgICAgICAgICAgICAgICAgICAgICAgCiAgICAgICAgICAgICAgICAgICAgICAgICAgICAgICAgICAgICAgICAgICAgICAgICAgICAgICAgICAgICAgICAgICAgICAgICAgICAgICAgICAgICAgICAgICAgICAgICAgICAKICAgICAgICAgICAgICAgICAgICAgICAgICAgICAgICAgICAgICAgICAgICAgICAgICAgICAgICAgICAgICAgICAgICAgICAgICAgICAgICAgICAgICAgICAgICAgICAgICAgIAogICAgICAgICAgICAgICAgICAgICAgICAgICAgICAgICAgICAgICAgICAgICAgICAgICAgICAgICAgICAgICAgICAgICAgICAgICAgICAgICAgICAgICAgICAgICAgICAgICAgCiAgICAgICAgICAgICAgICAgICAgICAgICAgICAgICAgICAgICAgICAgICAgICAgICAgICAgICAgICAgICAgICAgICAgICAgICAgICAgICAgICAgICAgICAgICAgICAgICAgICAKICAgICAgICAgICAgICAgICAgICAgICAgICAgICAgICAgICAgICAgICAgICAgICAgICAgICAgICAgICAgICAgICAgICAgICAgICAgICAgICAgICAgICAgICAgICAgICAgICAgIAogICAgICAgICAgICAgICAgICAgICAgICAgICAgICAgICAgICAgICAgICAgICAgICAgICAgICAgICAgICAgICAgICAgICAgICAgICAgICAgICAgICAgICAgICAgICAgICAgICAgCiAgICAgICAgICAgICAgICAgICAgICAgICAgICAgICAgICAgICAgICAgICAgICAgICAgICAgICAgICAgICAgICAgICAgICAgICAgICAgICAgICAgICAgICAgICAgICAgICAgICAKICAgICAgICAgICAgICAgICAgICAgICAgICAgICAgICAgICAgICAgICAgICAgICAgICAgICAgICAgICAgICAgICAgICAgICAgICAgICAgICAgICAgICAgICAgICAgICAgICAgIAogICAgICAgICAgICAgICAgICAgICAgICAgICAgICAgICAgICAgICAgICAgICAgICAgICAgICAgICAgICAgICAgICAgICAgICAgICAgICAgICAgICAgICAgICAgICAgICAgICAgCiAgICAgICAgICAgICAgICAgICAgICAgICAgICAgICAgICAgICAgICAgICAgICAgICAgICAgICAgICAgICAgICAgICAgICAgICAgICAgICAgICAgICAgICAgICAgICAgICAgICAKICAgICAgICAgICAgICAgICAgICAgICAgICAgICAgICAgICAgICAgICAgICAgICAgICAgICAgICAgICAgICAgICAgICAgICAgICAgICAgICAgICAgICAgICAgICAgICAgICAgIAogICAgICAgICAgICAgICAgICAgICAgICAgICAgICAgICAgICAgICAgICAgICAgICAgICAgICAgICAgICAgICAgICAgICAgICAgICAgICAgICAgICAgICAgICAgICAgICAgICAgCiAgICAgICAgICAgICAgICAgICAgICAgICAgICAgICAgICAgICAgICAgICAgICAgICAgICAgICAgICAgICAgICAgICAgICAgICAgICAgICAgICAgICAgICAgICAgICAgICAgICAKICAgICAgICAgICAgICAgICAgICAgICAgICAgICAgICAgICAgICAgICAgICAgICAgICAgICAgICAgICAgICAgICAgICAgICAgICAgICAgICAgICAgICAgICAgICAgICAgICAgIAogICAgICAgICAgICAgICAgICAgICAgICAgICAgPD94cGFja2V0IGVuZD0ndyc/Pv/bAEMABwUFBgUEBwYFBggHBwgKEQsKCQkKFQ8QDBEYFRoZGBUYFxseJyEbHSUdFxgiLiIlKCkrLCsaIC8zLyoyJyorKv/bAEMBBwgICgkKFAsLFCocGBwqKioqKioqKioqKioqKioqKioqKioqKioqKioqKioqKioqKioqKioqKioqKioqKioqKv/AABEIAOoCuwMBIgACEQEDEQH/xAAfAAABBQEBAQEBAQAAAAAAAAAAAQIDBAUGBwgJCgv/xAC1EAACAQMDAgQDBQUEBAAAAX0BAgMABBEFEiExQQYTUWEHInEUMoGRoQgjQrHBFVLR8CQzYnKCCQoWFxgZGiUmJygpKjQ1Njc4OTpDREVGR0hJSlNUVVZXWFlaY2RlZmdoaWpzdHV2d3h5eoOEhYaHiImKkpOUlZaXmJmaoqOkpaanqKmqsrO0tba3uLm6wsPExcbHyMnK0tPU1dbX2Nna4eLj5OXm5+jp6vHy8/T19vf4+fr/xAAfAQADAQEBAQEBAQEBAAAAAAAAAQIDBAUGBwgJCgv/xAC1EQACAQIEBAMEBwUEBAABAncAAQIDEQQFITEGEkFRB2FxEyIygQgUQpGhscEJIzNS8BVictEKFiQ04SXxFxgZGiYnKCkqNTY3ODk6Q0RFRkdISUpTVFVWV1hZWmNkZWZnaGlqc3R1dnd4eXqCg4SFhoeIiYqSk5SVlpeYmZqio6Slpqeoqaqys7S1tre4ubrCw8TFxsfIycrS09TV1tfY2dri4+Tl5ufo6ery8/T19vf4+fr/2gAMAwEAAhEDEQA/APEKKKK2ICiiigAooooAKKKKACiiigAooooAKKKKACiiigAooooAKKKKACiiigAooooAKKKKACiiigAooooAKKKKACiiigAooooAKKKKACiiigAooooAKKKKACiiigAooooAKKKKACiiigAooooAKKKKACiiigAooooAKKKKACiiigAooooAKKKKACiiigAooooAKKKKACiiigAooooAKKKKACiiigAooooAKKKKAEpaSigBaKKKACiiigAooooAKKKKACiiigAooooAKKKKACiiigAooooAKKKKACiiigAooooAKKKKACiiigAooooAKKKKACiiigAooooAKKKKACiiigAooooAKKKKACiiigAooooAKKKKACiiigAooooAKKKKACiiigAooooAKKKKACiiigAooooAKKKKACiiigAooooAKKKKACiiigAooooAKKKKACiiigAoopKAFoozRQAlFLjNLsNUovsTzxXUSiiipKCiiigAooooAKKKKACiiigAooooAKKKKACiiigAooooAKKKKACiiigAooooAKKKKACiiigAooooAKKKKACiiigAooooAKKKKACiiigAooooAKKKKACiiigAooooAKKKKACiiigAooooAKKKKACiiigAooooAKKKKACiiigAooooAKKKKACiiigAooooAKKKKACiiigAooooAKKKKACiiigAoxRRQAlL0opW607aXFzK9htFAopXYcqFooooGFFFFABRRRQAUUUUAFFFFABRRRQAUUUUAFFFFABRRRQAUUUUAFFFFABRRRQAUUUUAFFFFABRRRQAUUUUAFFFFABRWrovhrVPEDSDTIFfyxljI4QfgT1q7qHgLX9MsJby8ggWGEZcrcKxA+lIDnaK6iL4ceJJoUljtrco6hlP2pehqveeB9dsbi1guYIVku5PLhCzqct159KLoDn6K1brwzqdnr0ej3EUYvZcbVEoK89Pm6VbTwNrsmrSaYkEH2qOMSsv2hcBT70aAc/RUlxC9rcSQTAB4mKtg5GR710dv8O/Ed1bR3ENvbmOVQ6k3KgkH2pgcxRW1rPhDWNAtEudThhSJ32AxzK5z9BWLQAUUUUAFFFFABRRRQAUUUUAFFFFABRRRQAUUUUAFFWLCxn1PUIbKzCtPM21AzbQT9a6P/hWfif/AJ9rb/wKSkBylFXbfR7661QadDA32kvs2twAfc9h71sXfw+8RWNnLdXFtD5US7m2XCscewHJougOaorT0bw7qevzSRabAGaNdzGVtg/M9/arGseD9a0G0W51K3jETNtBilEmD15A6D3oAxKK1tS8NanpOlQajexxrbXGPLZJQxORnoOlGoeGdU0vSbfUryKNba5x5bLKGJyMjIHSmBk0UUUAFFFFABRRRQAUUUUAFFFFABRRRQAUUUUAFFFFABRRRQAnelb71FJVJ6WI5feuKKSloqSwooooAKKKKACiiigAooooAKKKKACiiigAooooAKKKKACiiigAopKKAFopKKAFooooAKKKKACiiigAooooAKKQUpoAKKKKAPU/At/FfeC30i01RtPvoSzGbaP3YJ4I3HBrP8a6J4ntvDkssXiqfU7HB+1LKqKAvbGCc81m6Dd+AoPD8Q8T24e8DHexhkbjPHI4o8T+N/DNv4Pk0HwhBvhushwVdPKz3G7rWb3Gjb+F2s6tqVzdQapqEl1FBbqI0cDC+449K4dvF2tzeKkub68a9i028Z4oJTheCRjIHpWr8M9f0/w5JdSa1LJCJIgq4jZyTn2rjopUn1G+miOUkmZlOMZBJIo6ge3xXHhjVbMeMLm0Uy2y5e42vujK9gM84z6Vh+BvEn/CU/ETVdQSARRC0EaYJOQG4PPTPpWFZ+JtKsvhdf6Rczut7KH2IImIOcY+bpVP4Ya9pvh65uLjVZWhjkh2qyRlyTn2pWYHOXpJ8Rarkkjz3/ma9yNndXvhXTEs9ak0d1hQmaNVJYY6fMRXB61rXw1l06/l06I/2jMjFH8mUZc9+TgVqN4x8B6n4b0608QSPcLDGvyNbyYVwMHkYovoBy3xD/tWDUYdIu/E0uqwFRMvmKow3/Ac/wA659eFA68Vu+Lb/wABHTYT4Ttyl4swLEJIvy4/2jisEHKg+oq4gxaKSlqhBRRRQAUUUUAFFFFABRRRQAUUUUAFFFFAG54L/wCR20v/AK7f0NevXGnXkviKO6j8RS29spGdNCptfj1JzzXjPhm+t9N8TWN5euUghk3OwUsQMHsK7y68X/DmXXl1W6Z21GMjbObeXIwMDjp+lZy3GhfBuuTa58RtbuJoBbiOBItoJIIViM8+ta3hW28XQ+IL6TxJcGSwbP2VfMVtvPoORxXJeHviLptz441PVtUD2sEsCRR7EaTdtPU4HHFJ4Q+JDHxBqL+IdVmk08Z+zL5Occ+ijI49agDZ0S8uLL4d+ILm1laOaG5naNxyVO7rXH2/xE1658H3djfW51I3KMpunLBkB7cDHFaXhLxvoy2uq6VrcJOnTTPIJFV2MgY/dKgZH1qbW/HvhbS/CM+keDoi63O5HiZZEEYPVstnJ9qYzp9S8MweKvA+k2d5f/YBHGj78A5O3GOSK5D4qX8lppumeGreLzY4Y0dbkE5bAxjHT9ap+OPFGlar4C0nT7SaRruEr5iNCygYXB5PFP8AGXirS7zwBo+m6fcO91bFC6NEwAwuDyeDRqByq8IvrjmlpFOVB9RS1sSFFFFABRRRQAUUUUAFFFFABRRRQAUUUUAFFFFABRRRQAUCiigAooooAKKKKACiiigAooooAKKKKACiiigAoopG+6fpQAhdQcFgPxpQ6k8MD7Zr65+FXhvQrz4V6DcXmi6dcTSW+XlltEZmO5upIyaxPj7omj6R8JL2707R9Ptp1mhAkhtkRgC4zyBmo5h2PmKimRvviVyMbhmngFmAHJJwAKoQU3cv94fnXZeDfDuoR+KLZ9T0mYW2G3GeH5OnGc8V6f8A2Ppn/QNs/wDwHT/CvGxmb0cLU5Gr+h6uFyypiIc6dvU+fty/3h+dKCD3/Wvf/wCxtL/6Btn/AOA6f4VieMdGhPhO9GlaVC91tHlrBbjeTntgZrnpZ9RqTUOVq5vUyarTg5cydjxujI7mrNxpuo2EUb6nYz2hk+6JUK5PtmvU/AOnWNx4Qt5Liyt5XMj5eSFWJ59SK9PGY6nhaSqvVPsefhcHPEVPZrR+Z5HuX+8KNy/3hXv/APY+l/8AQNs//AdP8KP7H0v/AKBtn/4Dp/hXkf6xUf5Gen/YdX+ZHgGV/vCivfzo+mYP/Ets+n/Puv8AhXimoaLrKXl9NNo9zBbRysVk8khduev0r0cFmlLGNpK1u5xYvL6mGSbd79jLJx14o3L/AHhXa/DK1t7vWLxbmCKdRACBIgYDn3r0r+x9L/6Btn/4Dp/hWOLzilharpSi2aYbK6mIpqopJHgGV/vCjK/3hXv/APY+l/8AQNs//AdP8KP7H0v/AKBtn/4Dp/hXJ/rFR/kZ0/2HV/mR4ACKM4613HxA0O/k8SQDRdGke3MIDNbQfKDn2GM1h+F7b/iudJtbyH/l9jSSKVc9+QQa93D4iFempx6nj1qEqM3CXQwt6f31/MUeYn99fzFfdP8AwiPhv/oXtK/8Ao//AImj/hEfDf8A0L2lf+AUf/xNbcxjY+FS0bcEqfYkUbE/uL/3yK+1vE/hfw9b+E9Uli0DS0dLWRlZbOMEEKe+K+JbWc3EG9lC844ppphYm+tNBQfd2D6YFdNoHhPXbjUtPuhod7LZvMjmXyCUZM9c+lfRZ0DRNxxo2nf+Akf+FeLmGc0cDJRa5r9rHTRw0qqufJ5KEYJUj3oBQcAqPYYr6v8A+Ef0X/oDad/4CR/4VW1Lw9pLaTdiDRbBpTC+wJaJktjjHHWvPhxPh5SUeR6+hs8DNK9z5Z2J/cT/AL5FLsQqAUTHYbRWhceHfEFhaPdarol7ZQK2DJNAVXnpyak0jw1ruvxyPoWj3uorEQJDawlwhPY4r6mMozV4s4GmnZmVsj/uJ/3yKUkAc8Cukf4d+NI42eTwprCooJZjasAB61sfB+0t7vxw8N7bQ3CC1c+XNGHAI9j3rHE4iOGoyqtXSKhBzkonBb1/vD86Ny/3h+dfV/8AYGi/9AbTv/ASP/Cj+wNF/wCgNp3/AICR/wCFfNf604f+R/gd31Cfc+UN6/3h+dKCD0INfV39gaL/ANAbTv8AwEj/AMK8q+Lvhe+uNW0weGfDryxeUwmaxteAc8Z2j+ddmCz+hi6qpKLXrYzqYSdOPNc8mpN6/wB4fnV+Oyns9cgtL+3eCZJ0WSGVcEfMOCK+n18P6LsX/iTad0H/AC6R+n0rqzHNqWA5edN37GdHDyq3sz5Q3r/eH50u9f7w/Ovq/wD4R/Rf+gLp3/gJH/hR/wAI/ov/AEBtO/8AASP/AAryf9acP/I/wN/qE+58obgeAQT9aWvoj4ieHLeXwHfpomhW8l8dvlra2i+YeecbRmvBL7RdW0qOJtY0y6sDLnYJ4iu7HXGa9vL8xpY6nzx08mc1WjKk7Mp0Vtad4L8T6vYpeaV4e1K9tnyFmgtyytj0NOv/AAR4q0uykvNS8OanaW0Qy801uVVfqa9IwMOiikNMANMIiPLBCfUgGum0Dwnrt1qWm3S6Hey2TzxuZfIJjZMjJz6V9F/8I/on/QF07/wEj/wrw8wzijgZKMlzX7WOujhp1VdaHygqp/DtH0ApQqrwoA9cCvRvjjBa6Zr2kRWFlb26ywNuEMQTJ3ew5rzrrXpYTERxNGNaKsmc9SDhJxYgUL90AfQYpvlR/wBxf++RT6v6boWrawHbSdNur1YyA5giL7T710NxirydiUmzObYeG28djjikOxsD5W9Ohr6P8B+GrOHwPp0er6JbLeqh80XNohkBz3yM1Q+Kul6Zp/w31G5s9LsoZUaPa8VuisPm9QM189DP6M8T9XUXe9r9DseEkoc9zwIUUyGQywq5GNwzin19GcQUUUUAFFFJQAtFFFABRRRQAUUUUAFFFFABRRRQAUUUUAFFFFABRRRQAUUUUAFFFFABRRRQAUUUUAFFFFABSH7ppaD0oA+zPhD/AMkj8Pf9ex/9Dak+K/gy98e+ALnQtLuLe3uJpY3V7gsEAVgT0BPb0rwDwr8cPFmg6bpPh/TbPS3tIXWBWlicuVLdyHAzz6V9ZmsXoUfFXjr4can8N5NPttYvbO5a7Rihti3G3Gc7gPWuZt/+PuL/AHx/OvY/2qyB4g8MZP8Ayym/9CWvHLY5uosf3x/OnJ3psqHxo+hkOY1/3R/Kuf8AFPjKx8JtbDUIJ5vtAO3yccY+prfX/Vp/uj+VeW/Gb/j40b/gf8xX55gKEMTilTqbO59vjK0sPh3UhuaqfGDRJHVBYX+WOBkL/jXeo++NHGQGUMPxFfPMX+vT/eH86+hYf+PeL/cX+Vdmb4Gjg+X2XU5stxlTFc3tOh5t8ZJpI7fSdjEZlbP5VF4b+IGmeHPDkVneWt1K8bsS0QXHJ9zTvjP/AMe+kf8AXV64MfeH1r2sFhaeKy+Eauy1PJxWIqYfGylT3PS/+Fx6Gf8AmH6h/wB8r/jW54Y8bWHiu4nisba4hMCBmM2OecdjWZb/AAz0Wa1hkee93PGrH94vUjP92trQPCVh4bnmlsJLhzMoVhKwI/QCvExUcsjTkqLfMevh54+U17VLlN2sTxo7L4L1QqSCLdsGto8A/SvFtd+Imu6nHqWk/Z7PyCzwswQhsZx13da5stwtWvWUobRaub47EU6NJxn1WhF4A8TW/h6aa6v45phLFsHlAZzn3rr/APhceh5/5B+ofkv+NeXWkbRWyo4wwr0Dwf4K03xBoRvL2a6WQSlMROAMD6ivqMwweCv7fEXPnsDi8Vb2NCxtad8VNH1PUoLKCxvUkncIrOFwCfxrtyMHFcnZfDrR7C+huoZ7wyQuHUNIpGR68V1hOTXyWOWFUl9WvbzPpcK8Q4v6xuKp5FeKaPK7/GiNXYkDVFwPT5q6rx1471bwzr8FjpkNrIskQfMyEnP5iuJ8HyXN38TNOvrxFR7i/jdgnTJbtX0eR4WrSTqS2ktDws4xFOo1TjunqfdVedfEP4z6L8ONYt9O1bTtQupbiLzVa1VCAM4x8zCvRa+WP2nv+Si6N/16H/0KvojwDp9b/ac8L6poN9YxaLrKSXMDxKzJFgEjHPz186aeCLE5GOTVz8aRvunPpVpWA+ofBJP/AAguj8n/AI9VpfFviqz8G6EdV1GCeeESLHsgxuyfqRSeCf8AkRdH/wCvVa5X47f8kzf/AK+46/KaNGOIzH2VTZyZ70pOFHmXYo/8NBeG/wDoEat/3zH/APFV6Noerw6/odrqtpHJFDdJvRJcbgPfFfJsP/Hun+6K+nvh/wD8k/0j/rgP5162eZXhsFRjOindvuYYWvOrJqRifGqR4/hjdFWIPnx8596l/ZbYtoetknkzRk/981X+Nv8AyTG6/wCu0f8AOvL/AAF8Ttc+Hul3EOg29jN9r2u/2qNmwQMDGGFe5w428D82cmMsqp9jaycaFfkf8+0n/oJr4u+HHiq38K+KLjUtSinuItskQWEAsCT711dz+0b4/urSW3l07RNkqMjYgkzgjH/PSvK7RJEWQzABnctxXu1qEa9N0p7M5YycHzI9xP7QHhwMR/ZOrcH+7H/8VUtp8ePD17fQWselaorzSLGpZUwCTj+9XL/DX4f6R4w0i8utVmvI5IJhGogkCjGM85Brt7b4M+G7W6huIrnUi8Lh1DTLjIOeflr4vE4bJcPKVOV+Zep6kKmJmk+h6BSqSDwSKSvNPin8RdZ8E6lp1vo0FnKLqMs32mMscg44wRXzOEwtXFVvZUdzsqTjCPNI8v8AHV00Xxh1R5CzRxXSuV+mDXpUvx78OwFVbStVY7R91U/+KrxbUtRv9d8SXesanHFHNdHc4h4UH2GTW/4F0C08TeLINM1B5kgkRmYwsA3A9SDX6Nisuw1XDxlir+4uh49OtOM2qfU9GH7QXhz/AKBOrf8AfMf/AMVXoXhzXbfxN4fttXs4pYYbgEqkuNwwcc4rjf8AhSXhjP8Ax96p/wB/k/8Aia7XQtFtvD2iwaXYtK8EAIQykFjk55IAr4rMFlipr6pfmv17HpUXWv8AvDQzjpXjH7Qc0iLoIRyMs+f0r0bx3r114Y8F3ur6esT3Fvt2rMpZTk9wCK+dfFvjbXfHa2Larb2caWpJjNupXOeuck138O4OtKusSvhV0ZYypFR5Op9UfAjj4R6b/vyf+hVN8cXZPg3rrIcERLyP94V8/eG/jZ4q8H+GoNG0O00yWGAkqbiJ2Y5OTkhwKh8U/G/xr4v8M3eh6pZaQlrdqFkaCJ1cAHPBLkdvSvv3e55BwFqzPaxs5ySOTXY+Evh3qfjPTri7067s4Ehk8pluCwJOM5GAah+Gfhaz8Ua9/ZmrPNHEls0mYGAbII7kGvfPCnhHT/CFlLZ6XJcSRTS+YxnYMQcY4wBXg5tm8cHF06b9868Ph3UfM9i34d06bRvDVhptxIry2sIjdoydpI9M1o14zqXxc8R23xGn0C2tdPa0ivRb7mibfsLAZzu6/hXs1fCY7C16ElOt9vU9WlOElaPQ8J+P/wDyM2h/9cG/9CNeb16R8fv+Rm0P/rg3/oRrz6ziW4v7eByQssqo2OuCQDX6Nk8lHL6bfY8bEa1mi/4a8PXPijW49LspooZpFZg8xO3j6V7n8OPBV/4Ltr+LULm3nNy6spty3GBjnIFSeHfhjofhnWI9T0+e+edEKgTSqV5HPAUVj/FT4hax4JvNNh0aG0lF2jM/2mMtgg44wRXzuPzCrmdX6phGuV99Njso0Y0Y+0qbnpPXrXEfGL/klep/70f/AKFW14L1q68Q+DrDVdQWJLm4Ul1hUhRzjgZNYvxi/wCSWan/AL0f/oVfP4CnKlmEIS3UjsqtSotrsfOloM20IHcAV1w+H+pMoYXVrgjPJb/CuRsv9TB/wH+de3x/6pP90fyr9yyzBU8Spe06HyOKrypNcp5//wAK+1L/AJ+rX82/wo/4V9qX/P3a/m3+FehAE9KOnWvY/sbDeZx/Xap57/wr3Uv+fu0/Nv8ACj/hXupf8/dr+bf4V6F9KMEdRR/Y2G8xfXap4/q2myaPqLWVxJG8qqDlDxzVOvTNU8F6brOsHUbqW5WZlC4jYBeBj0rzJniNzNFCSRG5Xke9fOYzCTw09Vo9j06NZVVpuLRRRXEbhRRRQAUUUUAFFFFABRRRQAUUUUAFFFFABRRRQAUUUUAFFFFABRRRQAUUUUAFFFFAFnTWVNYsndgqLcRlmJwANw5r7fsfFnh3VL5bLTde027umBZYILtHcgdTtBzXwvXovwAhj/4XFYSbQGFvNg/8ANRJDR9Uap4b0TXZYpNa0ix1B4QRG11bpIUz1xuBxXyD8To7ax+M2q6fYWkNrbxTR7I4VCqvyr0A4FfaFfF/xY/5L1rX/XaP/wBBWspP3WaU/jR62v8Aq0/3R/KvLPjN/wAfGjf8D/mK9TX/AFaf7o/lXFfEHwdqPiqTT202S3T7Nu3+c5XOcdMA+lfBZXUhTxilN2Wp9nmMJVMK4xV3oeWxf69P94fzr6Fh/wCPeL/rmv8AKvKk+GGurIrGex4IPErf/E16tGpWJFPVUAP4CvQz2vSrcns5JnFk9GpSUueNjzL4z/8AHvpH/XV64NfvD613nxn/AOPfSP8Arq1Y2j+BdV1zTUvrOS1WJ2KgSOQePwr2ctqU6eAi6krI8vHU5zxkuRXZ6ja+INFisbdZNXsUIiUYa4Udh71ctNU0/UGZbC+t7plGWEMofA98V5bJ8J9Zmx5j2Jx0/esP6V1HgTwXe+Fry7lvDblZowq+S5bHOe4r57FYHCU6cqkKt32Pcw+LxE5qEqVl3O0P3T9K+f7jRdUh1PUp5tNu44fOZvMaFguMnnOK+gaxPGbsngvVGViCLdsVnlONeGq8lr81isywvt6fNe3KeHV6l8PNV06x8Ksl7f21u/nsdssoU449a878K6DfeJ90VnJCJI03sZmIBGcdhXRv8LNbkUq8tiVPbzW/wr6nMfq+Ih7GpUUT57AOvRn7WEOY9Ki8QaNPMsUOrWMkjnColwpJPoBmtHFeW6L8MNS03WrS8laz2QSq7bJWJwPTivU2OSe3NfGY7D0aE0qM+ZH1WEr1K0W6keU8l+J2k6jfeMbSaysLm4iWAAvFCzAHPqBWR4QieLx9o0cqMjrexhlYYIOa9xUnNeK6PNI/xoiVmyq6ouB6fNX1OS411qfsbW5UfO5rhFSn7W/xM+3a+WP2nv8Akoujf9eh/wDQq+p68T+M3wg8RfEDxZp+paHcafFBbQeW4upXVs5zwApr3FueKfNlIfun6V6pffs8+MdP0+4vJ7zRzFBG0jhZ5MkAZ4+SvKz90/StOgup9Q+Cf+RF0f8A69Vrlfjt/wAkzf8A6+466rwT/wAiNo//AF6rWf8AEvwtf+MfB7aVpUkEdwZ0kzcOVXA68gGvyvCVI08zUpuyUme9UTdCy7HzXF/x7p/u19PfD/8A5J/pH/XAfzNeTx/A7xQsSqbrSsgY/wBe/wD8TXsvhfS59E8L2Gm3bRtPbxbHMZypPsa97iPF0K9CCpTTd+hy4OnKMm5I5T42/wDJMbr/AK7R/wA68P0bQNY1m13aPpV7frEAHNrA0gQ++BxXuPxs/wCSY3X/AF2j/nU/7LX/ACAta/66x/8AoNejw3/uPzZhjf4p4u3gjxWiFm8M6uFUZJNjJgD8qwzxwetfeWsEjQr8jtbSf+gmvh7wl4d1DxhrVxp+nyQLOpeTM7FVwD6gGvopVYwi5TdkjjUW3ZHqHwZ1rS9M8O6imp6laWbNchlWeZUJG3rya9FTxd4bkkVI/EGlu7HCqt2hJPoOa8cf4G+JnUq9xpRBGD+/b/4mn6d8C9es9Utbl5NL2QzLI22dycA5/u18VjcDl+IqzrvEavpoepSq1YRUeU9369K8Y+OOiapquuaM+mabd3iRxMHa3gZwp3d8DivaBgUBiDwSOa+ay/GfUsQqqVzsq0/aQ5T5FuLee0uHgu4ZIJkOHjkUqy/UGur+F15bWPj21nvriK2hEbgyTOFUcepqh4/825+LmrWyv9+4Cru6AnArpB8EfE5wftOl4IzzM3/xNfpWIr0KmF5a01HnR4sITjUvFXsewnxf4aBwfEOlgjqPtif41pWt3bX9qlzY3EVzA/3JYXDK30IrwY/ATxAz7jLpRJOT/pD/APxNexeCtCuPDfg+x0m8MRmtwQxhYsvJzwTXwOYYHCYekpUKvOz16NWc3aUbGd8U7O5v/hrqdtY28tzO+zbFChdm57Ac186y6PqWlWsA1TT7qzLj5ftELJu+mRX1wDjp19q8Z/aDmkRNB2uRlnz+lerw7mDhJYTl3u7nPjKKa9pc89sfCviHUrRbrTdC1K7t3+7LBau6N9CBilvPCfiPT7V7q/0DU7W3jGXlmtHRV+pIxX1J8CePhHpv+/J/6FU3xxkaP4N66yHDCJef+BCvu+Y8mx4B8Ff+R8l/683/AJivfV+8PrXz78DHaTxkWc5Y2T5P4ivoGvzbiP8A39+iPbwf8I+ddS8Oa4/xkvLxNGv2tW1IOJhbPsK7hzuxjFfRWMUu5sdT+dJXBj8xeNUE425VY1pUfZ313PFvjhomq6p4h0aTS9MvLxI4SHa3gZwp3HgkDivOLO2ntPEFrBdQyQzJcxh45FKsp3DqDX1ipIIwSOfWvmbxZK7fGq/RmJUX6YH/AAIV9TkmYOtQeG5bcsdzhxNFRmp92fTA6D6CvG/jlouqarquiNpmm3d4saNvNvAzhfm74HFeyD7o+goBI6EivksDjHgsT7ZK9rnfVp+0hynM/Dq1nsvh/pdveQSQTJGd0cqlWXnuDVT4rWd1qHw11G2sLaW5ndo9sUKF2PPYDmuxPvQDjpUxxbji/rNut7FOnenyHyS+kalpUNqNT0+6sy+NouIWTdg84yK9ij/1Sf7o/lWf8fppFn8OgMcGRwfzFaMf+rT/AHR/Kv3nhTFfW8M6zVrnxma0/Z1FE4f4l395ZJposrqa38xmDGJyuenpW54Mkml8LW73U7zylmzI5JJ59TXOfFX7ulf77f0ro/Bf/Iq2/wDvN/OvWozk8xqRb0Oaol9WiyTxfPLbeE76W3kaKRUG10OCOR3rm/hvd3t5NdPe3s9yPKUqsrltvJ9TXQeNv+RN1D/cH8xXN/DD/l5/65L/ADNFaclmMIp6WFTS+rSZ6Ev3hXhcX/IQvf8Arqf517ov3hXhcX/IQvf+up/nXLnn2Pma5f8AaLFFFFfNnqBRRRQAUUUUAFFFFABRRRQAUUUUAFFFFABRRRQAUUUUAFFFFABRRRQAUUUUAFFFFABXpPwB/wCSv2P/AF7zf+gGvNqtabqmoaNereaRez2N0oKrNbuUcA9RkUnsCPvWviz4uv5fx011xyVkQj/vhazX8e+O2ckeNdaAJ6fa5OP/AB6sO4lvr/VJdR1W/mv7uYfvJp2LO3GOSTzWfLfRlJ21R6Z4Y8f6prfiO2064srSOCRTuePduGB7n+leg/hXzzbXdxY3Cz2U8kEqjiSNsMPxqw/iLxKzkr4iv1BPA85uP1r5rGZH7SpejaKPocLnChC1a7Z79WR4q1ibQfDV3qVtHHJLAoKrIDtOTjnGK8W/4SDxP/0Ml/8A9/m/xqG81TXdQtXtr3XbyeB+GjkkZlb6gmsKXD9SNRSnJNdUbVM6puDUE0yfxN4s1XxjHafbLO3hSBiymHIzn1yTXrHw8/5Ey3/66P8AzrxeGPyoVTOdoxmtCLW9ZtLQW2n6tdWkYOQsUhAH4CvYx2Xe2w6o0dEmeXhMd7Ku61XVs9/4oNfP/wDwkHib/oZL/wD7+t/jR/wkHib/AKGTUP8Av63+NeH/AKvVv50ex/bdH+Vnv/QH6V414g+JGsanDqWkLYWfksWhLjcGAzjPLYzWL/wkHib/AKGTUP8Av63+NZsMLxySSSymV5G3MxHJNelgMmVCTlWtLt5HBjM1dWPLSuu53XwfRotSu0cYYQcjP+1XrFfPllqN7p0jSafdzWrsMM0LlSRUn/CQ+Jv+hjv/APv83+NZ4/J6uKrupGSSLwWZ0sPRVOSdz3+ivn//AISDxN/0Ml//AN/m/wAaP+Eg8Tf9DJf/APf5v8a4f9Xq/wDOjs/tuj/Kz0Pxv491HwxrsNhYWlrOskQfMwbOc+xFcN4Pmubz4n6ffXcSxvcX8bkKeAS3bmse7e/1C9S61LUJryVBgNMSxx6ZJqeC4mtbiO4tpWhmiYNHIhwykdCDX0eBwMMLTSS97q+54OMxk8TPV6dD77or4cl8f+OpJCy+NNZQen2t/wChpn/CeeO/+h21r/wLk/8Aiq7eVnEfZ3i4f8Ubq/8A15y/+gmvgzTebLH+0a6Kbxt43uIHhn8Z6xJFIpV0a6chgeoI3Vh2sH2eHZu3c5zjFNJgel+HPizrlmulaLb6dp7wKyW5kYPu25xn72M817wRhiK+RI5HhlWWF2SRCGV1OCp9RWpL4y8YSPlPFeqIPT7S3+NfLZjw/HETUsPaPffU76OM5Vaep9T1Xv7hrTTbm5jAZ4YmcBuhIGea+Xf+Ev8AGX/Q3ap/4EP/AI0yTxX4vmiaOXxZqjo4KspuHIIPbrXmw4XrKScpq3zNnjoW0RqeKfirr3jPw/LpV1punxQPICXg3hsg+7EV7B+y4Cui62rcETRgj/gNfOttB9njKl9xJznGK19M8Sa9oUMsWg61faYsxzILWYpuPqcV9rQwtLDw5KUbI8yc5Td5M+4dZ/5AN/8A9e0n/oJr5F+Bn/JQLv8A64y/zrnpPHHjmWNo5PGmsujAqym7kIIPb71Zmj3uoaFO1xpuoT21w+QZoXKMQeozWOMw8sRh5Uo7tFU5qE1Jn1zRXyqfF/jEsSPFuqgZ6faX/wAaT/hL/GX/AEN2q/8AgS/+NfHf6rYj/n4vxPS+vQ7H1XXnHxP+JGqeB9R0+30qys7kXUZdjcBiQQccYYV43/wl/jL/AKG7Vf8AwJf/ABrO1K91fWbiGbWtYutQaHhDcOXKj0GTxXZguG3SrKVdqUe2pnUxqlG0NGW5NTvdf8d/2zqEEUEt1cozJEflB3Dpkk19YD7q/wC6P5V8iKzI6ujFWU5Vh1B9a1ZvGXi92Hl+KtUjAGMC5b/GvRzbJ543kjSaSiY4fEKndy6n1PRXyp/wl/jL/obtV/8AAl/8aP8AhL/GX/Q3ar/4Ev8A414X+q2I/wCfi/E6vr0Ox9GeOdfuPC3g681iyihlmt9u1JgSpycc4IP6187+MvHWs+PlsDqNhaW6WpJQ2+4bs+u5jVO/17xNqti9nqXiXULq2k+/DNMzK31BNUok8qFUznaMZr6HKsmhglzVLOfc5K+JdTRbH178CT/xaPTf9+T/ANCqT46f8kZ17/rkv/oQr5YtPGHirTNPSy0fxJqWn2yHKxQXDKq/QA1BqPirxfq+ny2OqeLNUu7WYYkhmuHZHHuCea9xx1OQf4J8UXfhG8TUbCCCeVoTEVnztwe/BFdefjv4qycaLpOO3+s/+LrzqCPyoVjznaMZxT81xVstwmIn7SrBNmsa9SCtFnpemfG7xPe6vaWsuj6Wkc86Rsy78gEgHHz17lXyJHLJDMksTtHIhDI6nBUjoRWpL4y8XyPlPFeqoMdPtL/414WYcOwrSj9WtBLfc6qOMcV+81PX/id8SNU8D6pYWul2Vnci6iLsbgNkEHHGGFeIXesX+qeL59fvLeGKeaUTGOMnZuBzjqTjiotRvNW1m6hn1rV7rUHhGENw5cqPQZPFJXrZdldLCUkrLmtZvuc9bESqS8j0SX46+J1YCHR9KcY6kSf/ABdMHx38Wf8AQE0r8pP/AIuvPqKf9i5f/wA+kH1qt3PqLwdrdz4i8IWOq30UUM9ypZ44s7RzjjJJ/WofHXiG58K+DbvWLGKGaaAqFSYEqcnHOCDXzrD4o8SWVjHaaZ4g1Czgj+5HFOwVR6AA1W1DXvEurWT2ep+JNQu7aTG+GaZmVseoJr5+PDUvrPtG1yX2127HY8auSy3L/i3x3rHjybTH1KxtLdLV8obfcN2SOu5jXqUf+rT/AHR/KvEol8qJEByVHWrk2s63Iw8vWryMAYwJW/xr9IyjEUMupunGOnRI8HGUp4mSdzovir93Sv8Afb+ldH4L/wCRVt/95v515betqGpNGdR1Oe6EZyolJbH0yauJqmpwWogstSubZFPAjkIA/KumlmFOOLnXadmZzw0nRjTvsejeNv8AkTdQ/wBwfzFc38L/APl5/wCuS/zNctc3us3lu0F1rV1LE4wyPIxB/DNOsbq80yHbY3csDFcFo2K5oqZhTni417OyQo4aUaLp31Z7UoO4V4VEf+Jhe/8AXU/zq9/a2v8A/Qfvf+/rf41Sgt2haRnlMjSHJJHessxxsMXy8iasXhsO6N7vcnoooryjrCiiigAooooAKKKKACiiigAooooAKKKKACiiigAooooAKKKKACiiigAooooAKKKKACiiigAooooAKKKKACiiigAooooAKKKKACiiigAooooAKKKKACiiigAooooAKKKKACiiigAooooAKKKKACiiigA6V1kXw18RTwpLGlntdQwzc44PPpXJ16X8MtX1TUr+9i1C/muYYYFEcchyE+lS3YDlr3wJren3NpBcrbb7uTy4ts+RnGeeOKu/8Kw8Rg/cs/8AwKH+FUNG1fVta+IlpFqWpT3ENrfMY45GyF6jivTtc0qS71NpV8Y3WkgqB9miljVR74JBqeZjPNI/Amty6zJpai1+0xxCVh5/y7T05xVPSvDGpazqdxYWKwme3z5gkl2jg44OOa1fB2u6lF8Q5RJdPq7TN9leeXcWRAeGyOP6V6XdWOn+GbPUNW0jSoReCMu2xTmU56HFHMwPKtN8C61qscr2a2xEMrRPvn2/MOvap7v4da/Y2c11cLaiKFC77bjJwPQYqj4S8Q63J4qjjS7ntLW7vd8lurfISTyMGtv4r61q1r4mTTLHUZ7e0uLYCSJG+Vs9cinzAcQKU1FbQmCEIW3YPWpTVoQCjFAooAKKKKACiiigAooooAKKKKACiiigAooooAKKKKACiiigAooooAKKKKACiiigAooooAKKKKACiiigAooooAKKKKACiiigAooooAKKKKACiiigAooooAKKKKACiiigAooooAKKKKACiiigAooooAKKKKACiiigAooooAKKKKACiiigAooooAKKKKACiiigAooooAKKKKACiiigArrPAXiPTfDl5ey6rJKiTRBVMcRfkfSuToxSeoFrwzqlra+MjqUzOLZboyEhcttJPau+1Txf8NdTvmuNVs3ubjAUySWr5wPowrzYKB0AH0FG0HqB+VTyjudxoXjDwdo3jS7udKimtNPmtVQCKBuXByflyTTfCXxJePxJqE+vandy6fz9mQR7tvPHA6cVxIUDoAPwoCgdAB9BRyhcuaTrFv8A8Ju2oO7/AGRbszZ2fNtJ9KufEHX7DxF4yt7nS3kaJIQhMkZQ5+hrHCgdAB9BRtGc4GfXFOwXFoNFFUIKKKKACiiigAooooAKKKKACiiigAooooAKKKKACiiigAooooAKKKKACiiigAooooAKKKKACiiigAooooAKKKKACiiigAooPQUUNWJTurhRRRQUFFFFABRRRQAUUUUAFFFFABRRRQAUUUUAFFFFABRRRQAUUUUAFFFFABRRRQAUUUUAFFFFABRRRQAUUUUAFFFFABRRRQAUUUUAFFFFABRRRQAUUUUAFFFFABRRRQAUUUUAFFFFABRRRQAUUUUAFFFFABRRRQAUUUUAFFFFABRRRQAUUUUAFFFFABRRRQAUUUUAFFFFABRRRQAUUUUAFFFFABRRRQAUUUUADfdFJSUtOTuyYqyCiiipKCiiigAooooAKKKKACiiigAooooAKKKKACiiigAooooAKKKKACiiigAooooAKKKKACiiigAooooAKKKKACiiigAooooAKKKKACiiigAooooAKKKKACiiigAooooAKKKKACiiigAooooAKKKKACiiigAooooAKKKKACiiigAooooAKKKKACiiigAooooAKKKKACiiigAooooAKKKKACiiigAooooAKKKKAEooooAKM0UUAGaM0UUAGaM0UUAGaM0UUAGaM0UUAGaM0UUAGaM0UUAGaM0UUAGaM0UUAGaM0UUAGaM0UUAGaM0UUAGaM0UUAGaM0UUAGaM0UUAGaM0UUAGaM0UUAGaM0UUAGaM0UUAGaM0UUAGaM0UUAGaM0UUAGaM0UUAGaM0UUAGaM0UUAGaM0UUAGaM0UUAGaM0UUAGaM0UUAGaM0UUAGaM0UUAGaM0UUAGaM0UUAGaM0UUAGaM0UUAGaM0UUAGaM0UUAGaM0UUAGaM0UUAGaM0UUAGaM0UUAGaM0UUAGaM0UUAJmjNFFABmjNFFABmjNFFABmjNFFABmjNFFABmjNFFABmjNFFABmjNFFABmjNFFABmjNFFABmjNFFABmjNFFABmjNFFABmjNFFABmjNFFABmjNFFABmjNFFABmjNFFABmjNFFABmjNFFABmjNFFABmjNFFABmjNFFABmjNFFABmjNFFABmjNFFABmjNFFABmjNFFABmjNFFABmjNFFABmjNFFABmjNFFABmjNFFABmjNFFABmjNFFABmjNFFABmjNFFABmjNFFABmjNFFABmjNFFABmjNFFABmjNFFABmjNFFABmjNFFAH/9k=)\n",
        "\n",
        "Detalhando a sintaxe:\n",
        "\n",
        "![detalando sintaze cores.jpg](data:image/jpeg;base64,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)\n",
        "\n"
      ],
      "metadata": {
        "id": "mWv5xalNhpjs"
      }
    },
    {
      "cell_type": "code",
      "source": [
        "print('\\33[0;30;41mOlá, Mundo!')\n",
        "print('\\33[4;33;44mOlá, Mundo!')\n",
        "print('\\33[1;35;43mOlá, Mundo!')\n",
        "print('\\33[0;30;42mOlá, Mundo!')\n",
        "print('\\33[mOlá, Mundo!') # configuração padrão do terminhal, letra branca com fundo preto\n",
        "print('\\33[7;30mOlá, Mundo!') # código 7 inverte as cores.\n",
        "    \n",
        "\n"
      ],
      "metadata": {
        "colab": {
          "base_uri": "https://localhost:8080/"
        },
        "id": "0yLjCjFYkeT6",
        "outputId": "b39e219d-a76e-43cb-db62-8eaf0b071d4e"
      },
      "execution_count": null,
      "outputs": [
        {
          "output_type": "stream",
          "name": "stdout",
          "text": [
            "\u001b[0;30;41mOlá, Mundo!\n",
            "\u001b[4;33;44mOlá, Mundo!\n",
            "\u001b[1;35;43mOlá, Mundo!\n",
            "\u001b[0;30;42mOlá, Mundo!\n",
            "\u001b[mOlá, Mundo!\n",
            "\u001b[7;30mOlá, Mundo!\n"
          ]
        }
      ]
    },
    {
      "cell_type": "code",
      "source": [
        "s = 'prova de python'\n",
        "len(s)\n",
        "3 * 5 + 4 ** 2\n",
        "x = 'curso de puthon no cursoemvideo'\n",
        "x[:5]"
      ],
      "metadata": {
        "id": "N8iTYpYao8WK"
      },
      "execution_count": null,
      "outputs": []
    },
    {
      "cell_type": "markdown",
      "source": [
        "#Módulo 02\n",
        "\n"
      ],
      "metadata": {
        "id": "1eColnJFXRtu"
      }
    },
    {
      "cell_type": "markdown",
      "source": [
        "## Aula 12 - Estruturas de Controle\n",
        "\n",
        "#### Condições aninhadas\n",
        "\n",
        "Quando se tem mais de duas opções de caminho para o código seguir na execução.\n",
        "\n",
        "\n",
        "Se -- `if`\n",
        "\n",
        "Senão Se -- `elif`\n",
        "\n",
        "Senão -- `else `\n",
        "\n",
        "\n",
        "\n",
        "* Podemos utilizar dentro do `if` quantos `elif` forem necessários, sem a necessidade de ter nenhum `else`, sendo que o `else` só pode ser utilizado apenas uma vez."
      ],
      "metadata": {
        "id": "rzOgLiYQZl8E"
      }
    },
    {
      "cell_type": "markdown",
      "source": [
        "Exemplo Aula 012"
      ],
      "metadata": {
        "id": "M25GkIOkeBog"
      }
    },
    {
      "cell_type": "code",
      "source": [
        "nome = str(input('Qual é seu nome?  ')).strip().upper()\n",
        "if nome == 'JONATAS': # if (Se) \n",
        "  print('Que nome bonito!')\n",
        "elif nome == 'PEDRO' or 'MARIA' or 'JOÃO':  # elif (Senão Se)\n",
        "  print('Seu nome é bem comum no Brasil!')\n",
        "elif nome in 'ANA CLÁUDIA JÉSSICA JULIANA':  # elif (Senão Se)\n",
        "  print('Belo nome feminino!')\n",
        "else:\n",
        "  print('Seu nome é bem normal!')\n",
        "print('Tenha um bom dia, {}!'.format(nome))\n"
      ],
      "metadata": {
        "colab": {
          "base_uri": "https://localhost:8080/"
        },
        "id": "ocLMU-KQeGer",
        "outputId": "47b7b4b3-f185-4b06-fe3d-c261609ae62f"
      },
      "execution_count": null,
      "outputs": [
        {
          "output_type": "stream",
          "name": "stdout",
          "text": [
            "Qual é seu nome?  ana\n",
            "Seu nome é bem comum no Brasil!\n",
            "Tenha um bom dia, ANA!\n"
          ]
        }
      ]
    },
    {
      "cell_type": "markdown",
      "source": [
        "## ex036\n",
        "\n",
        "Escreva um programa para aprovar o empréstimo bancário para a compra de uma casa. Pergunte o valor da casa, o salário do comprador e em quantos anos ele vai pagar. A prestação mensal não pode exceder 30% do salário ou então o empréstimo será negado."
      ],
      "metadata": {
        "id": "W8at1G8ejFZu"
      }
    },
    {
      "cell_type": "code",
      "source": [
        "#ex036 - Resolução 01\n",
        "\n",
        "from time import sleep\n",
        "\n",
        "valor_casa = float(input('Valor da casa? R$'))\n",
        "salario_comprador = float(input('Qual seu salário? R$'))\n",
        "tempo_pgto = int(input('Pagamento em quantos meses? '))\n",
        "prestacao_mensal = valor_casa / tempo_pgto\n",
        "minimo = salario_comprador * 30 / 100\n",
        "print()\n",
        "print('Valor da casa R${:.2f}\\nValor da Prestação R${:.2f}\\nParcelado em {} meses\\nRenda Disponível com base no salário R${:.2f}'.format(valor_casa, prestacao_mensal, tempo_pgto, minimo))\n",
        "if prestacao_mensal >= minimo:\n",
        "  print()\n",
        "  print('Em processamento...')\n",
        "  sleep(5)\n",
        "  print()\n",
        "  print('Empréstimo Negado!\\nA parcela ultrapassa o comprometimento de 30% da sua renda mensal.')\n",
        "else:\n",
        "  print()\n",
        "  print('Em processamento...')\n",
        "  sleep(5)\n",
        "  print()\n",
        "  print('Empréstimo Aprovado!')\n",
        "\n"
      ],
      "metadata": {
        "colab": {
          "base_uri": "https://localhost:8080/"
        },
        "id": "gh2uPEMFjO-Q",
        "outputId": "74669a60-32f9-428c-9758-8fce8bbb36b8"
      },
      "execution_count": null,
      "outputs": [
        {
          "output_type": "stream",
          "name": "stdout",
          "text": [
            "Valor da casa? R$120000\n",
            "Qual seu salário? R$5000\n",
            "Pagamento em quantos meses? 120\n",
            "\n",
            "Valor da casa R$120000.00\n",
            "Valor da Prestação R$1000.00\n",
            "Parcelado em 120 meses\n",
            "Renda Disponível com base no salário R$1500.00\n",
            "\n",
            "Em processamento...\n",
            "\n",
            "Empréstimo Aprovado!\n"
          ]
        }
      ]
    },
    {
      "cell_type": "markdown",
      "source": [
        "## ex037\n",
        "\n",
        "Escreva um programa em Python que leia um número inteiro qualquer e peça para o usuário escolher qual será a base de conversão: 1 para binário, 2 para octal e 3 para hexadecimal."
      ],
      "metadata": {
        "id": "-jfEH2TDGqs8"
      }
    },
    {
      "cell_type": "code",
      "source": [
        "# ex037 (A) MEU JEITO\n",
        "\n",
        "from time import sleep\n",
        "\n",
        "num = int(input('Digite um número inteiro:  '))\n",
        "opcao = input('Escolha as opções para base de conversão:\\n1 - Binário\\n2 - Octal\\n3 - Hexadecimal\\n')\n",
        "print()\n",
        "print('Opção escolhida: {}'.format(opcao))\n",
        "print()\n",
        "if opcao == '1':\n",
        "  binario = bin(num)\n",
        "  print('Em processamento...')\n",
        "  sleep(5)\n",
        "  print()\n",
        "  print('O número {} convertido para Binário é {}.'.format(num, binario[2:]))\n",
        "elif opcao == '2':\n",
        "  octal = oct(num)\n",
        "  print('Em processamento...')\n",
        "  sleep(5)\n",
        "  print()\n",
        "  print('O número {} convertido para Octal é {}.'.format(num, octal[2:]))\n",
        "elif opcao == '3':\n",
        "  hexa = hex(num)\n",
        "  print('Em processamento...')\n",
        "  sleep(5)\n",
        "  print()\n",
        "  print('O número {} convertido para Hexadecimal é {}.'.format(num, hexa[2:]))\n",
        "else:\n",
        "  print('''Opção invalida!\n",
        "Tente novamente.''')"
      ],
      "metadata": {
        "id": "kL4QKfhZGytk"
      },
      "execution_count": null,
      "outputs": []
    },
    {
      "cell_type": "code",
      "source": [
        "# ex037 - (B) JEITO DO PROFESSOR\n",
        "\n",
        "num = int(input('Digite um número inteiro:  '))\n",
        "print('''Escolha uma das bases para conversão:\n",
        "[1] Converter para BINÁRIO\n",
        "[2] Converter para OCTAL\n",
        "[3] Converter para HEXADECIMAL\n",
        " ''')\n",
        "opcao = int(input('Sua opção:  '))\n",
        "if opcao == 1:\n",
        "  print('{} convertido para BINÁRIO é igual a {}'.format(num, bin(num)[2:]))\n",
        "elif opcao == 2:\n",
        "  print('{} convertido para OCTAL é igual a {}'.format(num, oct(num)[2:]))\n",
        "elif opcao == 3:\n",
        "  print('{} convertido para HEXADECIMAL é igaul a {}'.format(num, hex(num)[2:]))\n",
        "else:\n",
        "  print('Opção inválida. Tente novamente.')\n",
        "\n"
      ],
      "metadata": {
        "id": "OVrTEiRaRzvO"
      },
      "execution_count": null,
      "outputs": []
    },
    {
      "cell_type": "markdown",
      "source": [
        "## ex038\n",
        "\n",
        "Escreva um programa que leia dois números inteiros e compare-os. mostrando na tela uma mensagem:\n",
        "\n",
        "– O primeiro valor é maior\n",
        "\n",
        "– O segundo valor é maior\n",
        "\n",
        "– Não existe valor maior, os dois são iguais\n"
      ],
      "metadata": {
        "id": "Lh7XnbbFUp9H"
      }
    },
    {
      "cell_type": "code",
      "source": [
        "num1 = int(input('Digite o primeiro número inteiro:  ')) \n",
        "num2 = int(input('Digite o segundo número inteiro:  '))\n",
        "if num1 > num2:\n",
        "  print('O primeiro número digitado é maior que o segundo, {} maior {}.'.format(num1, num2))\n",
        "elif num2 > num1:\n",
        "  print('O segundo número digitado é maior que o primeiro, {} maior {}.'.format(num2, num1))\n",
        "elif num1 == num2:\n",
        "  print('Os dois números digitados são iguais, {} igual {}.'.format(num1, num2))"
      ],
      "metadata": {
        "id": "uC01FSCHUwfx"
      },
      "execution_count": null,
      "outputs": []
    },
    {
      "cell_type": "markdown",
      "source": [
        "## ex039\n",
        "\n",
        "Faça um programa que leia o ano de nascimento de um jovem e informe, de acordo com a sua idade, se ele ainda vai se alistar ao serviço militar, se é a hora exata de se alistar ou se já passou do tempo do alistamento. Seu programa também deverá mostrar o tempo que falta ou que passou do prazo."
      ],
      "metadata": {
        "id": "fUngCqaFOxmw"
      }
    },
    {
      "cell_type": "code",
      "source": [
        "# ex039 (A) Meu Jeito\n",
        "\n",
        "from datetime import date\n",
        "\n",
        "ano_nas = int(input('Digite o ano no seu nascimento:  '))\n",
        "ano_atual = date.today().year\n",
        "idade = ano_atual - ano_nas\n",
        "print()\n",
        "if idade == 18:\n",
        "  print('Esse é o ano no seu alistamento militar! Compareça a junta militar.')\n",
        "elif idade > 18:\n",
        "  print('''Você tem {} anos e está atrasado {} anos para o alistamento militar,\n",
        "que foi no ano {}.\n",
        "Regularise sua situação.'''.format(idade, idade - 18, ano_nas + 18))\n",
        "elif idade < 18:\n",
        "  print('''Você tem {} anos, ainda faltam {} anos para o alistamento militar,\n",
        "que será no ano {}.\n",
        "Espere mais um pouco.'''.format(idade, 18 - idade, ano_nas + 18))"
      ],
      "metadata": {
        "id": "59L3lhHbO7X0"
      },
      "execution_count": null,
      "outputs": []
    },
    {
      "cell_type": "markdown",
      "source": [
        "## ex040\n",
        "\n",
        "Crie um programa que leia duas notas de um aluno e calcule sua média, mostrando uma mensagem no final, de acordo com a média atingida:\n",
        "\n",
        "– Média abaixo de 5.0: REPROVADO\n",
        "\n",
        "– Média entre 5.0 e 6.9: RECUPERAÇÃO\n",
        "\n",
        "– Média 7.0 ou superior: APROVADO"
      ],
      "metadata": {
        "id": "1f5T7PvZYlXn"
      }
    },
    {
      "cell_type": "code",
      "source": [
        "# ex040 (A) Meu Jeito\n",
        "\n",
        "from numpy import mean\n",
        "\n",
        "aluno = str(input('Nome do Aluno:  ')).strip().upper()\n",
        "print()\n",
        "p1 = float(input('Nota da P1:  '))\n",
        "p2 = float(input('Nota da P2:  '))\n",
        "lista = [p1, p2]\n",
        "nfinal = mean(lista)\n",
        "print()\n",
        "if nfinal < 5:\n",
        "  print('O Aluno(a) {} com média {:.1f} está REPROVADO.'.format(aluno, nfinal))\n",
        "elif nfinal >= 5 and nfinal < 7:\n",
        "  print('O Aluno(a) {} com média {:.1f} está de RECUPERAÇÃO.'.format(aluno, nfinal))\n",
        "elif nfinal >= 7:\n",
        "  print('O Aluno(a) {} com média {:.1f} está APROVADO.'.format(aluno, nfinal))"
      ],
      "metadata": {
        "colab": {
          "base_uri": "https://localhost:8080/"
        },
        "id": "t2iEl3h0Yrdt",
        "outputId": "ed6805ce-3c91-4804-88c4-0310db0ae04c"
      },
      "execution_count": null,
      "outputs": [
        {
          "output_type": "stream",
          "name": "stdout",
          "text": [
            "Nome do Aluno:  jonas\n",
            "\n",
            "Nota da P1:  6.5\n",
            "Nota da P2:  4.1\n",
            "\n",
            "O Aluno(a) JONAS com média 5.3 está de RECUPERAÇÃO.\n"
          ]
        }
      ]
    },
    {
      "cell_type": "markdown",
      "source": [
        "## ex041\n",
        "\n",
        " A Confederação Nacional de Natação precisa de um programa que leia o ano de nascimento de um atleta e mostre sua categoria, de acordo com a idade:\n",
        "\n",
        "– Até 9 anos: MIRIM\n",
        "\n",
        "– Até 14 anos: INFANTIL\n",
        "\n",
        "– Até 19 anos: JÚNIOR\n",
        "\n",
        "– Até 25 anos: SÊNIOR\n",
        "\n",
        "– Acima de 25 anos: MASTER\n"
      ],
      "metadata": {
        "id": "3P_59L3TiH-B"
      }
    },
    {
      "cell_type": "code",
      "source": [
        "# ex041\n",
        "\n",
        "from datetime import date\n",
        "\n",
        "nome_atleta = str(input('Nome do Atleta: ')).strip().upper()\n",
        "ano_nas = int(input('Ano de Nascimento:  '))\n",
        "ano_atual = date.today().year\n",
        "idade = ano_atual - ano_nas\n",
        "print()\n",
        "if idade <= 9:\n",
        "  print('O(A) atleta {} tem {} anos de idade, está na categoria MIRIM.'.format(nome_atleta, idade))\n",
        "elif idade > 9 and idade <= 14:\n",
        "  print('O(A) atleta {} tem {} anos de idade, está na categoria INFANTIL.'.format(nome_atleta, idade))\n",
        "elif idade > 14 and idade <= 19:\n",
        "  print('O(A) atleta {} tem {} anos de idade, está na categoria JÚNIOR.'.format(nome_atleta, idade))\n",
        "elif idade > 19 and idade <= 25:\n",
        "  print('O(A) atleta {} tem {} anos de idade, está da categoria SÊNIOR.'.format(nome_atleta, idade))\n",
        "elif idade > 25:\n",
        "  print('O(A) atleta {} tem {} anos de idade, está na categoria MASTER.'.format(nome_atleta, idade))"
      ],
      "metadata": {
        "colab": {
          "base_uri": "https://localhost:8080/"
        },
        "id": "v-kkuGbeiN7x",
        "outputId": "49ed6b8c-d0cc-460f-e757-70bf294dc9eb"
      },
      "execution_count": null,
      "outputs": [
        {
          "output_type": "stream",
          "name": "stdout",
          "text": [
            "Nome do Atleta: Jonatas\n",
            "Ano de Nascimento:  1999\n",
            "\n",
            "O(A) atleta JONATAS tem 23 anos de idade, está da categoria SÊNIOR.\n"
          ]
        }
      ]
    },
    {
      "cell_type": "markdown",
      "source": [
        "## ex042\n",
        "\n",
        "Refaça o DESAFIO 35 dos triângulos, acrescentando o recurso de mostrar que tipo de triângulo será formado:\n",
        "\n",
        "– EQUILÁTERO: todos os lados iguais\n",
        "\n",
        "– ISÓSCELES: dois lados iguais, um diferente\n",
        "\n",
        "– ESCALENO: todos os lados diferentes\n",
        "\n",
        "usamos um `if` dentro de outro `if`."
      ],
      "metadata": {
        "id": "6aXGarJ-tHw-"
      }
    },
    {
      "cell_type": "code",
      "source": [
        "# ex042\n",
        "\n",
        "print('#' *10 , 'Analisando o triângulo', '#' * 10)\n",
        "print()\n",
        "r1 = float(input('Primeiro segmento:  '))\n",
        "r2 = float(input('Segundo segmento:  '))\n",
        "r3 = float(input('Terceiro segmento:  '))\n",
        "print()\n",
        "if r1 < r2 + r3 and r2 < r1 + r3 and r3 < r1 + r2:\n",
        "  print('Os segmentos acima PODEM FORMAR UM triângulo ', end='')\n",
        "  if r1 == r2 and r2 == r3:\n",
        "    print('EQUILÁTERO!')\n",
        "  elif r1 != r2 and r2 != r3 and r3 != r1:\n",
        "    print('ESCALENO!')\n",
        "  else:\n",
        "    print('ISÓSCELES!')\n",
        "else:\n",
        "  print('Os segmentos acima NÃO PODEM formar um triângulo.')"
      ],
      "metadata": {
        "id": "WQQ9lNC1tNgm"
      },
      "execution_count": null,
      "outputs": []
    },
    {
      "cell_type": "markdown",
      "source": [
        "## ex043\n",
        "\n",
        "Desenvolva uma lógica que leia o peso e a altura de uma pessoa, calcule seu Índice de Massa Corporal (IMC) e mostre seu status, de acordo com a tabela abaixo:\n",
        "\n",
        "– IMC abaixo de 18,5: Abaixo do Peso\n",
        "\n",
        "– Entre 18,5 e 25: Peso Ideal\n",
        "\n",
        "– 25 até 30: Sobrepeso\n",
        "\n",
        "– 30 até 40: Obesidade\n",
        "\n",
        "– Acima de 40: Obesidade Mórbida\n",
        "\n",
        "Fórmula do cálculo:\n",
        "\n",
        "IMC = Peso ÷ (Altura × Altura)"
      ],
      "metadata": {
        "id": "2fRUaYQ9zj3c"
      }
    },
    {
      "cell_type": "code",
      "source": [
        "# ex043 (A) -  Meu jeito\n",
        "\n",
        "print('*' * 10, 'Calculadora de Índice de Massa Corporal (IMC)' , '*' * 10)\n",
        "print()\n",
        "nome = str(input('Qual seu nome?  ')).strip().upper()\n",
        "peso = float(input('Informe seu Peso (kg, separado por \".\"):  '))\n",
        "altura = float(input('Informe sua altura (metro e cm, separado por \".\"):  '))\n",
        "imc = peso / (altura * altura)\n",
        "print()\n",
        "print('O IMC do paciente {} é {:.1f}, '.format(nome, imc), end='')\n",
        "if imc < 18.5:\n",
        "  print('está ABAIXO DO PESO!')\n",
        "elif imc >= 18.5 and imc <=25:\n",
        "  print('está no PESO IDEAL!')\n",
        "elif imc > 25 and imc <= 30:\n",
        "  print('está com SOBREPESO!')\n",
        "elif imc > 30 and imc <= 40:\n",
        "  print('está com OBESIDADE!')\n",
        "else:\n",
        "  print('está com OBESIDADE MÓRBIDA!')"
      ],
      "metadata": {
        "colab": {
          "base_uri": "https://localhost:8080/"
        },
        "id": "PQNyi25Xz2xz",
        "outputId": "b99e01c8-94a7-4985-f3b4-1415b3e712c6"
      },
      "execution_count": null,
      "outputs": [
        {
          "output_type": "stream",
          "name": "stdout",
          "text": [
            "********** Calculadora de Índice de Massa Corporal (IMC) **********\n",
            "\n",
            "Qual seu nome?  Jonatas\n",
            "Informe seu Peso (kg, separado por \".\"):  85.70\n",
            "Informe sua altura (metro e cm, separado por \".\"):  1.73\n",
            "\n",
            "O IMC do paciente JONATAS é 28.6, está com SOBREPESO!\n"
          ]
        }
      ]
    },
    {
      "cell_type": "markdown",
      "source": [
        "## ex044\n",
        "\n",
        " Elabore um programa que calcule o valor a ser pago por um produto, considerando o seu preço normal e condição de pagamento:\n",
        "\n",
        "– à vista dinheiro/cheque: 10% de desconto\n",
        "\n",
        "– à vista no cartão: 5% de desconto\n",
        "\n",
        "– em até 2x no cartão: preço formal \n",
        "\n",
        "– 3x ou mais no cartão: 20% de juros\n",
        "\n"
      ],
      "metadata": {
        "id": "SKP_SQO7Na3C"
      }
    },
    {
      "cell_type": "code",
      "source": [
        "# ex044 (A) Meu Jeito\n",
        "\n",
        "print('{:=^20}'.format(' Preço de Acordo com as Condições de Pagamento '))\n",
        "print()\n",
        "nome_produto = str(input('Nome do Produto:  ')).strip().upper()\n",
        "preco_produto = float(input('Preço normal do produto R$ '))\n",
        "print()\n",
        "print('''Condições de Pagamento:\n",
        "[1] À vista Dinheiro/PIX: 10% de desconto\n",
        "[2] À vista no cartão de débito: 5% de desconto\n",
        "[3] em até 2x no cartão de crédito: preço normal\n",
        "[4] 3x ou mais no cartão de crédito: 20% de juros ''')\n",
        "print()\n",
        "condicao = int(input('Digite a condição de pagamento escolhida: '))\n",
        "print()\n",
        "if condicao == 1:\n",
        "  pagamento = preco_produto - (preco_produto / 100 * 10)\n",
        "  print('Na condição escolhida, o produto {} que custava R${:.2f} sairá por R${:.2f}.'.format(nome_produto, preco_produto, pagamento))\n",
        "elif condicao == 2:\n",
        "  pagamento = preco_produto - (preco_produto / 100 * 5)\n",
        "  print('Na condição escolhida, o produto {} que custava R${:.2f} sairá por R${:.2f}'.format(nome_produto, preco_produto, pagamento))\n",
        "elif condicao == 3:\n",
        "  print('Na condição escolhida não é possivel aplicar desconto no produto {}, pagamento normal de R${:.2f}.'.format(nome_produto, preco_produto))\n",
        "elif condicao == 4:\n",
        "  qtd_parcelas = int(input('Quantas parcelas?  '))\n",
        "  print()\n",
        "  pagamento = preco_produto + (preco_produto / 100 * 20)\n",
        "  valor_parcelas = pagamento / qtd_parcelas\n",
        "  print('''Na condição escolhida, o produto {} que custava R${:.2f} sairá por R${:.2f}\n",
        "Parcelado em {} X R${:.2f}.'''.format(nome_produto, preco_produto, pagamento, qtd_parcelas, valor_parcelas))\n",
        "elif condicao != [1, 4]:\n",
        "  print('Opção Inválida!')\n"
      ],
      "metadata": {
        "id": "ZQ6SRZulNk8Z"
      },
      "execution_count": null,
      "outputs": []
    },
    {
      "cell_type": "markdown",
      "source": [
        "## ex045\n",
        "\n",
        "Crie um programa que faça o computador jogar Jokenpô com você."
      ],
      "metadata": {
        "id": "V3nap1rCuAVj"
      }
    },
    {
      "cell_type": "code",
      "source": [
        "# ex045\n",
        "\n",
        "from random import randint\n",
        "from time import sleep\n",
        "\n",
        "print('{:=^40}'.format(' Jogo JO-KEN-PO '))\n",
        "print()\n",
        "print('''Suas opções:\n",
        "[0] Pedra\n",
        "[1] Papel\n",
        "[2] Tesoura ''')\n",
        "print()\n",
        "lista = ['PEDRA', 'PAPEL', 'TESOURA']\n",
        "computador = random.randint(0, 2)\n",
        "jogador = int(input('Qual a sua jogada?  '))\n",
        "print()\n",
        "print('JO')\n",
        "sleep(1)\n",
        "print('KEN')\n",
        "sleep(1)\n",
        "print('PO!!')\n",
        "sleep(1)\n",
        "print()\n",
        "print('O computador jogou {}'.format(lista[computador]))\n",
        "print('O jogador jogou {}'.format(lista[jogador]))\n",
        "print()\n",
        "if computador == 0:  #Computador jogou PEDRA\n",
        "  if jogador == 0:\n",
        "    print('EMPATE! Pedra com Pedra!')\n",
        "  elif jogador == 1:\n",
        "    print('''Jogador VENCEU!\n",
        "Papel ganha da Pedra! Embrulhando-a!''')\n",
        "  elif jogador == 2:\n",
        "    print('''Computador VENCEU!\n",
        "Pedra ganha da Tesoura! Quebrando-a!''')\n",
        "  else:\n",
        "    print('Jogada INVÁLIDA!')\n",
        "if computador == 1: #Computador jogou PAPEL\n",
        "  if jogador == 0:\n",
        "    print('''Computador VENCEU!\n",
        "Papel ganha da Pedra! Embrulhando-a!''')\n",
        "  elif jogador == 1:\n",
        "    print('EMPATE! Papel com Papel!')\n",
        "  elif jogador == 2:\n",
        "    print('''Jogador VENCEU!\n",
        "Tesoura ganha do Papel! Cortando-o!''')\n",
        "  else:\n",
        "    print('Jogada INVÁLIDA!')\n",
        "if computador == 2:  #Computador Jogou Tesoura\n",
        "  if jogador == 0:\n",
        "    print('''Jogador VENCEU!\n",
        "Pedra ganha da Tesoura! Quebrando-a! ''')\n",
        "  elif jogador == 1:\n",
        "    print('''Computador VENCEU!\n",
        "Tesoura ganha do Papel! Cortando-o!''')\n",
        "  elif jogador == 2:\n",
        "    print('EMPATE! Tesoura com Tesoura!')\n",
        "  else:\n",
        "    print('Jogada INVÁLIDA!')\n"
      ],
      "metadata": {
        "colab": {
          "base_uri": "https://localhost:8080/"
        },
        "id": "Ro_vh3l1uK5o",
        "outputId": "9d852d98-a716-461c-b1f1-e233217ba499"
      },
      "execution_count": 74,
      "outputs": [
        {
          "output_type": "stream",
          "name": "stdout",
          "text": [
            "============ Jogo JO-KEN-PO ============\n",
            "\n",
            "Suas opções:\n",
            "[0] Pedra\n",
            "[1] Papel\n",
            "[2] Tesoura \n",
            "\n",
            "Qual a sua jogada?  1\n",
            "\n",
            "JO\n",
            "KEN\n",
            "PO!!\n",
            "\n",
            "O computador jogou TESOURA\n",
            "O jogador jogou PAPEL\n",
            "\n",
            "Computador VENCEU!\n",
            "Tesoura ganha do Papel! Cortando-o!\n"
          ]
        }
      ]
    },
    {
      "cell_type": "markdown",
      "source": [
        "##Aula 13 - Repetições Controladas\n",
        "\n",
        "#### Laço `for`\n"
      ],
      "metadata": {
        "id": "BHCKY-vqdS6Q"
      }
    },
    {
      "cell_type": "code",
      "source": [
        "print('01 - Repetindo linha a linha(código) a saudação \"Oi\":')\n",
        "print('Oi')\n",
        "print('Oi')\n",
        "print('Oi')\n",
        "print('Oi')\n",
        "print('Oi')\n",
        "print('Oi')\n",
        "print()\n"
      ],
      "metadata": {
        "id": "bZD5KZ2yhBof"
      },
      "execution_count": null,
      "outputs": []
    },
    {
      "cell_type": "code",
      "source": [
        "print('02 - Repetindo a saudação  \"Oi\", usando o laço \"for\":')\n",
        "for cont in range(1, 7): # o ultimo número de vezes não conta, nesse caso vai repetir 6 vezes.\n",
        "  print('Oi')\n",
        "print('Ocorreram {} repetições!'.format(cont))\n",
        "print()\n"
      ],
      "metadata": {
        "id": "uDD3exW2nHqd"
      },
      "execution_count": null,
      "outputs": []
    },
    {
      "cell_type": "code",
      "source": [
        "print('03 - Repetição com número de vezes imputado pelo usuário, e usando laço \"for\"')\n",
        "repeticao = int(input('Repetir quantas vezes?  '))\n",
        "print()\n",
        "for cont in range(repeticao):\n",
        "  print('Bom dia')\n",
        "print('Ocorreram {} repetições!'.format(cont + 1))\n",
        "print()\n"
      ],
      "metadata": {
        "id": "HcBZ9k_HnHW0"
      },
      "execution_count": null,
      "outputs": []
    },
    {
      "cell_type": "code",
      "source": [
        "print('''04 - Repetição com:\n",
        "[a] número de vezes imputado pelo usuário,\n",
        "[b] com o texto digitado pelo usuário,\n",
        "[c] usando o laço \"for\"''')\n",
        "print()\n",
        "repeticao = int(input('Repetir quantas vezes?  '))\n",
        "texto = str(input('Digite o texto:  ')).strip()\n",
        "print()\n",
        "for cont in range(repeticao):\n",
        "  print(texto)\n",
        "print('Ocorreram {} repetições!'.format(cont + 1))"
      ],
      "metadata": {
        "id": "sLnSOq8fnG3c"
      },
      "execution_count": null,
      "outputs": []
    },
    {
      "cell_type": "code",
      "source": [
        "print('''05 - Repetição com:\n",
        "[a] número de vezes imputado pelo usuário,\n",
        "[b] com o texto digitado pelo usuário,\n",
        "[c] usando o laço \"for\"\n",
        "[d] caso seja não seja repetido, imprimir as ocorrências no singular''')\n",
        "print()\n",
        "repeticao = int(input('Repetir quantas vezes?  '))\n",
        "texto = str(input('Digite o texto:  ')).strip()\n",
        "print()\n",
        "for cont in range(repeticao):\n",
        "  print(texto)\n",
        "if repeticao > 1:\n",
        "  print()\n",
        "  print('Ocorreram {} repetições do texto: \"{}\".'.format(cont + 1, texto))\n",
        "else:\n",
        "  print('Não ocorreu repetição!')\n"
      ],
      "metadata": {
        "colab": {
          "base_uri": "https://localhost:8080/"
        },
        "id": "C5p4r9HjpQJr",
        "outputId": "ca91cfaa-f218-42e8-8ad1-592d32383d43"
      },
      "execution_count": 191,
      "outputs": [
        {
          "output_type": "stream",
          "name": "stdout",
          "text": [
            "05 - Repetição com:\n",
            "[a] número de vezes imputado pelo usuário,\n",
            "[b] com o texto digitado pelo usuário,\n",
            "[c] usando o laço \"for\"\n",
            "[d] caso seja não seja repetido, imprimir as ocorrências no singular\n",
            "\n",
            "Repetir quantas vezes?  3\n",
            "Digite o texto:  casa\n",
            "\n",
            "casa\n",
            "casa\n",
            "casa\n",
            "\n",
            "Ocorreram 3 repetições do texto: \"casa\".\n"
          ]
        }
      ]
    },
    {
      "cell_type": "markdown",
      "source": [
        "## ex046\n",
        "\n",
        "Faça um programa que mostre na tela uma contagem regressiva para o estouro de fogos de artifício, indo de 10 até 0, com uma pausa de 1 segundo entre eles."
      ],
      "metadata": {
        "id": "10Hdk8Hl6xhP"
      }
    },
    {
      "cell_type": "code",
      "source": [
        "# ex 046 - () Meu jeito\n",
        "\n",
        "from time import sleep\n",
        "\n",
        "print('Contagem Regressiva')\n",
        "print()\n",
        "contagem = int(input('Início da contagem:  '))\n",
        "for cont in range(contagem, -1, -1): # ordem do range(numero do input que dará inicio a contagem, final da contagem com -1 para pegar o ZERO, -1 para inverter a ordem e contar de um em um)\n",
        "  print(cont) \n",
        "  sleep(1)\n",
        "print('BUM, BUM, BUM!!!')\n"
      ],
      "metadata": {
        "colab": {
          "base_uri": "https://localhost:8080/"
        },
        "id": "ym9lZeKO7SOx",
        "outputId": "74aafeb2-7dc0-4a24-9af4-dc7d02cf3483"
      },
      "execution_count": 188,
      "outputs": [
        {
          "output_type": "stream",
          "name": "stdout",
          "text": [
            "Contagem Regressiva\n",
            "\n",
            "Início da contagem:  5\n",
            "5\n",
            "4\n",
            "3\n",
            "2\n",
            "1\n",
            "0\n",
            "BUM, BUM, BUM!!!\n"
          ]
        }
      ]
    }
  ],
  "metadata": {
    "colab": {
      "collapsed_sections": [],
      "provenance": [],
      "toc_visible": true,
      "authorship_tag": "ABX9TyPKQPfF4V/NxGgXNyVpWjIc",
      "include_colab_link": true
    },
    "kernelspec": {
      "display_name": "Python 3",
      "name": "python3"
    },
    "language_info": {
      "name": "python"
    }
  },
  "nbformat": 4,
  "nbformat_minor": 0
}